{
 "cells": [
  {
   "cell_type": "code",
   "execution_count": 1,
   "metadata": {},
   "outputs": [
    {
     "name": "stdout",
     "output_type": "stream",
     "text": [
      "     3    ?  alfa-romero     gas    std   two  convertible  rwd  front  88.60  \\\n",
      "0    3    ?  alfa-romero     gas    std   two  convertible  rwd  front   88.6   \n",
      "1    1    ?  alfa-romero     gas    std   two    hatchback  rwd  front   94.5   \n",
      "2    2  164         audi     gas    std  four        sedan  fwd  front   99.8   \n",
      "3    2  164         audi     gas    std  four        sedan  4wd  front   99.4   \n",
      "4    2    ?         audi     gas    std   two        sedan  fwd  front   99.8   \n",
      "..  ..  ...          ...     ...    ...   ...          ...  ...    ...    ...   \n",
      "199 -1   95        volvo     gas    std  four        sedan  rwd  front  109.1   \n",
      "200 -1   95        volvo     gas  turbo  four        sedan  rwd  front  109.1   \n",
      "201 -1   95        volvo     gas    std  four        sedan  rwd  front  109.1   \n",
      "202 -1   95        volvo  diesel  turbo  four        sedan  rwd  front  109.1   \n",
      "203 -1   95        volvo     gas  turbo  four        sedan  rwd  front  109.1   \n",
      "\n",
      "     ...  130  mpfi  3.47  2.68  9.00  111  5000  21  27  13495  \n",
      "0    ...  130  mpfi  3.47  2.68   9.0  111  5000  21  27  16500  \n",
      "1    ...  152  mpfi  2.68  3.47   9.0  154  5000  19  26  16500  \n",
      "2    ...  109  mpfi  3.19  3.40  10.0  102  5500  24  30  13950  \n",
      "3    ...  136  mpfi  3.19  3.40   8.0  115  5500  18  22  17450  \n",
      "4    ...  136  mpfi  3.19  3.40   8.5  110  5500  19  25  15250  \n",
      "..   ...  ...   ...   ...   ...   ...  ...   ...  ..  ..    ...  \n",
      "199  ...  141  mpfi  3.78  3.15   9.5  114  5400  23  28  16845  \n",
      "200  ...  141  mpfi  3.78  3.15   8.7  160  5300  19  25  19045  \n",
      "201  ...  173  mpfi  3.58  2.87   8.8  134  5500  18  23  21485  \n",
      "202  ...  145   idi  3.01  3.40  23.0  106  4800  26  27  22470  \n",
      "203  ...  141  mpfi  3.78  3.15   9.5  114  5400  19  25  22625  \n",
      "\n",
      "[204 rows x 26 columns]\n"
     ]
    }
   ],
   "source": [
    "import pandas as pd\n",
    "\n",
    "df = pd.read_fwf(\n",
    "    'https://raw.githubusercontent.com/zcolley/cs381-MatthewFried/main/quiz/imports-85.data')\n",
    "\n",
    "print(df)\n"
   ]
  }
 ],
 "metadata": {
  "kernelspec": {
   "display_name": "Python 3.9.12 64-bit",
   "language": "python",
   "name": "python3"
  },
  "language_info": {
   "codemirror_mode": {
    "name": "ipython",
    "version": 3
   },
   "file_extension": ".py",
   "mimetype": "text/x-python",
   "name": "python",
   "nbconvert_exporter": "python",
   "pygments_lexer": "ipython3",
   "version": "3.9.12"
  },
  "orig_nbformat": 4,
  "vscode": {
   "interpreter": {
    "hash": "aee8b7b246df8f9039afb4144a1f6fd8d2ca17a180786b69acc140d282b71a49"
   }
  }
 },
 "nbformat": 4,
 "nbformat_minor": 2
}
