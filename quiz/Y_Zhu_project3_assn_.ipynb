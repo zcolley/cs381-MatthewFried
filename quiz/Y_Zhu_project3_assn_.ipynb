{
 "cells": [
  {
   "cell_type": "markdown",
   "metadata": {},
   "source": [
    "# Automobile\n",
    "The Data set I will be using is a set that contains specifications of  205 different cars.\n",
    "\n",
    "I have a data frame with 205 rows and 26 variables:\n",
    "* symboling - (-3 -- 3)\n",
    "* normalized-losses - (65 -- 256)\n",
    "* make - Varies brand\n",
    "* fuel-type - type of fule (diesel, gas)\n",
    "* aspiration - \n",
    "* num-of-door - number of door (two doors or four doors)\n",
    "* body-style hardtop, wagon, sedan, hatchback, convertible\n",
    "* drive-wheels - 4wd, fwd, rwd\n",
    "* engine-location - front,rear\n",
    "* wheel-base - horizontal distance between the center of the front and rear wheels range(86.6, 120,9)\n",
    "* length - length in inches (141.1,208.1)\n",
    "* width - widht in inches (60.3,72.3)\n",
    "* height - height in inches (47.8,59.8)\n",
    "* curb-weight - weight in lbs (1488,4066) \n",
    "* engine-type - dohc, dohcv, l, ohc, ohcf, ohcv, rotor\n",
    "* num-of-cylinders - eight, five, four, six, three, twelve, two\n",
    "* engine-size - (61,326)\n",
    "* fuel-system - help transfer feul from the tank to the engine for combustion. 1bbl, 2bbl, 4bbl, idi, mfi, mpfi, spdi,spfi\n",
    "* bore - diameter of each cylinder (2.54 -- 3.94)\n",
    "* stroke - the time of the piston moves from the top center to the bottom of the cylinder. (2.07 -- 4.17)\n",
    "* compression-ratio - ratio of the volume of the cylinder (7 -- 23)\n",
    "* horsepower - horsepower range (48 -- 288)\n",
    "* peak-rpm - (4150 -- 6600)\n",
    "* city-mpg -  mile per gallon in city (13 -- 49)\n",
    "* highway-mpg - mile per gallon in highway (16 -- 54)\n",
    "* price - price in US dollars (5118 -- 45400)\n",
    "\n",
    "## **Analysis of Various Features**\n",
    "* symboling - the degree to which the auto is more risky than its price indicates.\n",
    "* normalized - losses the relative average loss payment per insured vehicle year. "
   ]
  },
  {
   "cell_type": "markdown",
   "metadata": {},
   "source": [
    "## Data Summary and EDA\n"
   ]
  },
  {
   "cell_type": "code",
   "execution_count": 2,
   "metadata": {},
   "outputs": [
    {
     "name": "stdout",
     "output_type": "stream",
     "text": [
      "(205, 26)\n"
     ]
    },
    {
     "data": {
      "text/html": [
       "<div>\n",
       "<style scoped>\n",
       "    .dataframe tbody tr th:only-of-type {\n",
       "        vertical-align: middle;\n",
       "    }\n",
       "\n",
       "    .dataframe tbody tr th {\n",
       "        vertical-align: top;\n",
       "    }\n",
       "\n",
       "    .dataframe thead th {\n",
       "        text-align: right;\n",
       "    }\n",
       "</style>\n",
       "<table border=\"1\" class=\"dataframe\">\n",
       "  <thead>\n",
       "    <tr style=\"text-align: right;\">\n",
       "      <th></th>\n",
       "      <th>symboling</th>\n",
       "      <th>normalized-losses</th>\n",
       "      <th>make</th>\n",
       "      <th>fuel-type</th>\n",
       "      <th>aspiration</th>\n",
       "      <th>num-of-door</th>\n",
       "      <th>body-style</th>\n",
       "      <th>drive-wheels</th>\n",
       "      <th>engine-location</th>\n",
       "      <th>wheel-base</th>\n",
       "      <th>length</th>\n",
       "      <th>width</th>\n",
       "      <th>height</th>\n",
       "      <th>curb-weight</th>\n",
       "      <th>engine-type</th>\n",
       "      <th>num-of-cylinders</th>\n",
       "      <th>engine-size</th>\n",
       "      <th>fuel-system</th>\n",
       "      <th>bore</th>\n",
       "      <th>stroke</th>\n",
       "      <th>compression-ratio</th>\n",
       "      <th>horsepower</th>\n",
       "      <th>peak-rpm</th>\n",
       "      <th>city-mpg</th>\n",
       "      <th>highway-mpg</th>\n",
       "      <th>price</th>\n",
       "    </tr>\n",
       "  </thead>\n",
       "  <tbody>\n",
       "    <tr>\n",
       "      <th>0</th>\n",
       "      <td>3</td>\n",
       "      <td>?</td>\n",
       "      <td>alfa-romero</td>\n",
       "      <td>gas</td>\n",
       "      <td>std</td>\n",
       "      <td>two</td>\n",
       "      <td>convertible</td>\n",
       "      <td>rwd</td>\n",
       "      <td>front</td>\n",
       "      <td>88.6</td>\n",
       "      <td>168.8</td>\n",
       "      <td>64.1</td>\n",
       "      <td>48.8</td>\n",
       "      <td>2548</td>\n",
       "      <td>dohc</td>\n",
       "      <td>four</td>\n",
       "      <td>130</td>\n",
       "      <td>mpfi</td>\n",
       "      <td>3.47</td>\n",
       "      <td>2.68</td>\n",
       "      <td>9.0</td>\n",
       "      <td>111</td>\n",
       "      <td>5000</td>\n",
       "      <td>21</td>\n",
       "      <td>27</td>\n",
       "      <td>13495</td>\n",
       "    </tr>\n",
       "    <tr>\n",
       "      <th>1</th>\n",
       "      <td>3</td>\n",
       "      <td>?</td>\n",
       "      <td>alfa-romero</td>\n",
       "      <td>gas</td>\n",
       "      <td>std</td>\n",
       "      <td>two</td>\n",
       "      <td>convertible</td>\n",
       "      <td>rwd</td>\n",
       "      <td>front</td>\n",
       "      <td>88.6</td>\n",
       "      <td>168.8</td>\n",
       "      <td>64.1</td>\n",
       "      <td>48.8</td>\n",
       "      <td>2548</td>\n",
       "      <td>dohc</td>\n",
       "      <td>four</td>\n",
       "      <td>130</td>\n",
       "      <td>mpfi</td>\n",
       "      <td>3.47</td>\n",
       "      <td>2.68</td>\n",
       "      <td>9.0</td>\n",
       "      <td>111</td>\n",
       "      <td>5000</td>\n",
       "      <td>21</td>\n",
       "      <td>27</td>\n",
       "      <td>16500</td>\n",
       "    </tr>\n",
       "    <tr>\n",
       "      <th>2</th>\n",
       "      <td>1</td>\n",
       "      <td>?</td>\n",
       "      <td>alfa-romero</td>\n",
       "      <td>gas</td>\n",
       "      <td>std</td>\n",
       "      <td>two</td>\n",
       "      <td>hatchback</td>\n",
       "      <td>rwd</td>\n",
       "      <td>front</td>\n",
       "      <td>94.5</td>\n",
       "      <td>171.2</td>\n",
       "      <td>65.5</td>\n",
       "      <td>52.4</td>\n",
       "      <td>2823</td>\n",
       "      <td>ohcv</td>\n",
       "      <td>six</td>\n",
       "      <td>152</td>\n",
       "      <td>mpfi</td>\n",
       "      <td>2.68</td>\n",
       "      <td>3.47</td>\n",
       "      <td>9.0</td>\n",
       "      <td>154</td>\n",
       "      <td>5000</td>\n",
       "      <td>19</td>\n",
       "      <td>26</td>\n",
       "      <td>16500</td>\n",
       "    </tr>\n",
       "    <tr>\n",
       "      <th>3</th>\n",
       "      <td>2</td>\n",
       "      <td>164</td>\n",
       "      <td>audi</td>\n",
       "      <td>gas</td>\n",
       "      <td>std</td>\n",
       "      <td>four</td>\n",
       "      <td>sedan</td>\n",
       "      <td>fwd</td>\n",
       "      <td>front</td>\n",
       "      <td>99.8</td>\n",
       "      <td>176.6</td>\n",
       "      <td>66.2</td>\n",
       "      <td>54.3</td>\n",
       "      <td>2337</td>\n",
       "      <td>ohc</td>\n",
       "      <td>four</td>\n",
       "      <td>109</td>\n",
       "      <td>mpfi</td>\n",
       "      <td>3.19</td>\n",
       "      <td>3.40</td>\n",
       "      <td>10.0</td>\n",
       "      <td>102</td>\n",
       "      <td>5500</td>\n",
       "      <td>24</td>\n",
       "      <td>30</td>\n",
       "      <td>13950</td>\n",
       "    </tr>\n",
       "    <tr>\n",
       "      <th>4</th>\n",
       "      <td>2</td>\n",
       "      <td>164</td>\n",
       "      <td>audi</td>\n",
       "      <td>gas</td>\n",
       "      <td>std</td>\n",
       "      <td>four</td>\n",
       "      <td>sedan</td>\n",
       "      <td>4wd</td>\n",
       "      <td>front</td>\n",
       "      <td>99.4</td>\n",
       "      <td>176.6</td>\n",
       "      <td>66.4</td>\n",
       "      <td>54.3</td>\n",
       "      <td>2824</td>\n",
       "      <td>ohc</td>\n",
       "      <td>five</td>\n",
       "      <td>136</td>\n",
       "      <td>mpfi</td>\n",
       "      <td>3.19</td>\n",
       "      <td>3.40</td>\n",
       "      <td>8.0</td>\n",
       "      <td>115</td>\n",
       "      <td>5500</td>\n",
       "      <td>18</td>\n",
       "      <td>22</td>\n",
       "      <td>17450</td>\n",
       "    </tr>\n",
       "    <tr>\n",
       "      <th>5</th>\n",
       "      <td>2</td>\n",
       "      <td>?</td>\n",
       "      <td>audi</td>\n",
       "      <td>gas</td>\n",
       "      <td>std</td>\n",
       "      <td>two</td>\n",
       "      <td>sedan</td>\n",
       "      <td>fwd</td>\n",
       "      <td>front</td>\n",
       "      <td>99.8</td>\n",
       "      <td>177.3</td>\n",
       "      <td>66.3</td>\n",
       "      <td>53.1</td>\n",
       "      <td>2507</td>\n",
       "      <td>ohc</td>\n",
       "      <td>five</td>\n",
       "      <td>136</td>\n",
       "      <td>mpfi</td>\n",
       "      <td>3.19</td>\n",
       "      <td>3.40</td>\n",
       "      <td>8.5</td>\n",
       "      <td>110</td>\n",
       "      <td>5500</td>\n",
       "      <td>19</td>\n",
       "      <td>25</td>\n",
       "      <td>15250</td>\n",
       "    </tr>\n",
       "    <tr>\n",
       "      <th>6</th>\n",
       "      <td>1</td>\n",
       "      <td>158</td>\n",
       "      <td>audi</td>\n",
       "      <td>gas</td>\n",
       "      <td>std</td>\n",
       "      <td>four</td>\n",
       "      <td>sedan</td>\n",
       "      <td>fwd</td>\n",
       "      <td>front</td>\n",
       "      <td>105.8</td>\n",
       "      <td>192.7</td>\n",
       "      <td>71.4</td>\n",
       "      <td>55.7</td>\n",
       "      <td>2844</td>\n",
       "      <td>ohc</td>\n",
       "      <td>five</td>\n",
       "      <td>136</td>\n",
       "      <td>mpfi</td>\n",
       "      <td>3.19</td>\n",
       "      <td>3.40</td>\n",
       "      <td>8.5</td>\n",
       "      <td>110</td>\n",
       "      <td>5500</td>\n",
       "      <td>19</td>\n",
       "      <td>25</td>\n",
       "      <td>17710</td>\n",
       "    </tr>\n",
       "    <tr>\n",
       "      <th>7</th>\n",
       "      <td>1</td>\n",
       "      <td>?</td>\n",
       "      <td>audi</td>\n",
       "      <td>gas</td>\n",
       "      <td>std</td>\n",
       "      <td>four</td>\n",
       "      <td>wagon</td>\n",
       "      <td>fwd</td>\n",
       "      <td>front</td>\n",
       "      <td>105.8</td>\n",
       "      <td>192.7</td>\n",
       "      <td>71.4</td>\n",
       "      <td>55.7</td>\n",
       "      <td>2954</td>\n",
       "      <td>ohc</td>\n",
       "      <td>five</td>\n",
       "      <td>136</td>\n",
       "      <td>mpfi</td>\n",
       "      <td>3.19</td>\n",
       "      <td>3.40</td>\n",
       "      <td>8.5</td>\n",
       "      <td>110</td>\n",
       "      <td>5500</td>\n",
       "      <td>19</td>\n",
       "      <td>25</td>\n",
       "      <td>18920</td>\n",
       "    </tr>\n",
       "    <tr>\n",
       "      <th>8</th>\n",
       "      <td>1</td>\n",
       "      <td>158</td>\n",
       "      <td>audi</td>\n",
       "      <td>gas</td>\n",
       "      <td>turbo</td>\n",
       "      <td>four</td>\n",
       "      <td>sedan</td>\n",
       "      <td>fwd</td>\n",
       "      <td>front</td>\n",
       "      <td>105.8</td>\n",
       "      <td>192.7</td>\n",
       "      <td>71.4</td>\n",
       "      <td>55.9</td>\n",
       "      <td>3086</td>\n",
       "      <td>ohc</td>\n",
       "      <td>five</td>\n",
       "      <td>131</td>\n",
       "      <td>mpfi</td>\n",
       "      <td>3.13</td>\n",
       "      <td>3.40</td>\n",
       "      <td>8.3</td>\n",
       "      <td>140</td>\n",
       "      <td>5500</td>\n",
       "      <td>17</td>\n",
       "      <td>20</td>\n",
       "      <td>23875</td>\n",
       "    </tr>\n",
       "    <tr>\n",
       "      <th>9</th>\n",
       "      <td>0</td>\n",
       "      <td>?</td>\n",
       "      <td>audi</td>\n",
       "      <td>gas</td>\n",
       "      <td>turbo</td>\n",
       "      <td>two</td>\n",
       "      <td>hatchback</td>\n",
       "      <td>4wd</td>\n",
       "      <td>front</td>\n",
       "      <td>99.5</td>\n",
       "      <td>178.2</td>\n",
       "      <td>67.9</td>\n",
       "      <td>52.0</td>\n",
       "      <td>3053</td>\n",
       "      <td>ohc</td>\n",
       "      <td>five</td>\n",
       "      <td>131</td>\n",
       "      <td>mpfi</td>\n",
       "      <td>3.13</td>\n",
       "      <td>3.40</td>\n",
       "      <td>7.0</td>\n",
       "      <td>160</td>\n",
       "      <td>5500</td>\n",
       "      <td>16</td>\n",
       "      <td>22</td>\n",
       "      <td>?</td>\n",
       "    </tr>\n",
       "  </tbody>\n",
       "</table>\n",
       "</div>"
      ],
      "text/plain": [
       "   symboling normalized-losses         make fuel-type aspiration num-of-door  \\\n",
       "0          3                 ?  alfa-romero       gas        std         two   \n",
       "1          3                 ?  alfa-romero       gas        std         two   \n",
       "2          1                 ?  alfa-romero       gas        std         two   \n",
       "3          2               164         audi       gas        std        four   \n",
       "4          2               164         audi       gas        std        four   \n",
       "5          2                 ?         audi       gas        std         two   \n",
       "6          1               158         audi       gas        std        four   \n",
       "7          1                 ?         audi       gas        std        four   \n",
       "8          1               158         audi       gas      turbo        four   \n",
       "9          0                 ?         audi       gas      turbo         two   \n",
       "\n",
       "    body-style drive-wheels engine-location  wheel-base  length  width  \\\n",
       "0  convertible          rwd           front        88.6   168.8   64.1   \n",
       "1  convertible          rwd           front        88.6   168.8   64.1   \n",
       "2    hatchback          rwd           front        94.5   171.2   65.5   \n",
       "3        sedan          fwd           front        99.8   176.6   66.2   \n",
       "4        sedan          4wd           front        99.4   176.6   66.4   \n",
       "5        sedan          fwd           front        99.8   177.3   66.3   \n",
       "6        sedan          fwd           front       105.8   192.7   71.4   \n",
       "7        wagon          fwd           front       105.8   192.7   71.4   \n",
       "8        sedan          fwd           front       105.8   192.7   71.4   \n",
       "9    hatchback          4wd           front        99.5   178.2   67.9   \n",
       "\n",
       "   height  curb-weight engine-type num-of-cylinders  engine-size fuel-system  \\\n",
       "0    48.8         2548        dohc             four          130        mpfi   \n",
       "1    48.8         2548        dohc             four          130        mpfi   \n",
       "2    52.4         2823        ohcv              six          152        mpfi   \n",
       "3    54.3         2337         ohc             four          109        mpfi   \n",
       "4    54.3         2824         ohc             five          136        mpfi   \n",
       "5    53.1         2507         ohc             five          136        mpfi   \n",
       "6    55.7         2844         ohc             five          136        mpfi   \n",
       "7    55.7         2954         ohc             five          136        mpfi   \n",
       "8    55.9         3086         ohc             five          131        mpfi   \n",
       "9    52.0         3053         ohc             five          131        mpfi   \n",
       "\n",
       "   bore stroke  compression-ratio horsepower peak-rpm  city-mpg  highway-mpg  \\\n",
       "0  3.47   2.68                9.0        111     5000        21           27   \n",
       "1  3.47   2.68                9.0        111     5000        21           27   \n",
       "2  2.68   3.47                9.0        154     5000        19           26   \n",
       "3  3.19   3.40               10.0        102     5500        24           30   \n",
       "4  3.19   3.40                8.0        115     5500        18           22   \n",
       "5  3.19   3.40                8.5        110     5500        19           25   \n",
       "6  3.19   3.40                8.5        110     5500        19           25   \n",
       "7  3.19   3.40                8.5        110     5500        19           25   \n",
       "8  3.13   3.40                8.3        140     5500        17           20   \n",
       "9  3.13   3.40                7.0        160     5500        16           22   \n",
       "\n",
       "   price  \n",
       "0  13495  \n",
       "1  16500  \n",
       "2  16500  \n",
       "3  13950  \n",
       "4  17450  \n",
       "5  15250  \n",
       "6  17710  \n",
       "7  18920  \n",
       "8  23875  \n",
       "9      ?  "
      ]
     },
     "execution_count": 2,
     "metadata": {},
     "output_type": "execute_result"
    }
   ],
   "source": [
    "import pandas as pd\n",
    "import numpy as np\n",
    "import matplotlib.pyplot as plt\n",
    "from sklearn.decomposition import PCA\n",
    "from sklearn.svm import SVC\n",
    "from sklearn.metrics import accuracy_score,confusion_matrix,classification_report,roc_auc_score\n",
    "from scipy.stats import zscore\n",
    "from sklearn.model_selection import train_test_split\n",
    "from sklearn.preprocessing import LabelEncoder,OneHotEncoder\n",
    "from sklearn.compose import ColumnTransformer\n",
    "from sklearn.experimental import enable_iterative_imputer\n",
    "from sklearn.impute import IterativeImputer\n",
    "from sklearn.impute import SimpleImputer\n",
    "from sklearn.model_selection import train_test_split\n",
    "from sklearn.linear_model import BayesianRidge\n",
    "from sklearn.tree import DecisionTreeRegressor\n",
    "from sklearn.ensemble import ExtraTreesRegressor\n",
    "from sklearn.neighbors import KNeighborsRegressor\n",
    "from sklearn.preprocessing import StandardScaler\n",
    "from sklearn import (model_selection,preprocessing)\n",
    "from sklearn.dummy import DummyRegressor\n",
    "import seaborn as sns\n",
    "pd.set_option('display.max_columns', None)\n",
    "pd.set_option('display.max_rows', None)\n",
    "headers = ['symboling', 'normalized-losses', 'make', 'fuel-type',\n",
    "           'aspiration', 'num-of-door', 'body-style', 'drive-wheels', 'engine-location', 'wheel-base', 'length', 'width', 'height', 'curb-weight', 'engine-type', 'num-of-cylinders', 'engine-size','fuel-system', 'bore', 'stroke','compression-ratio', 'horsepower', 'peak-rpm', 'city-mpg', 'highway-mpg', 'price']\n",
    "df = pd.read_csv('https://raw.githubusercontent.com/zcolley/cs381-MatthewFried/main/quiz/imports-85.data',\n",
    "                 names=headers)\n",
    "q3 = df.copy()\n",
    "print(df.shape)\n",
    "df.head(10)\n"
   ]
  },
  {
   "cell_type": "code",
   "execution_count": 28,
   "metadata": {},
   "outputs": [
    {
     "data": {
      "text/plain": [
       "symboling              6\n",
       "normalized-losses     52\n",
       "make                  22\n",
       "fuel-type              2\n",
       "aspiration             2\n",
       "num-of-door            3\n",
       "body-style             5\n",
       "drive-wheels           3\n",
       "engine-location        2\n",
       "wheel-base            53\n",
       "length                75\n",
       "width                 44\n",
       "height                49\n",
       "curb-weight          171\n",
       "engine-type            7\n",
       "num-of-cylinders       7\n",
       "engine-size           44\n",
       "fuel-system            8\n",
       "bore                  39\n",
       "stroke                37\n",
       "compression-ratio     32\n",
       "horsepower            60\n",
       "peak-rpm              24\n",
       "city-mpg              29\n",
       "highway-mpg           30\n",
       "price                187\n",
       "dtype: int64"
      ]
     },
     "execution_count": 28,
     "metadata": {},
     "output_type": "execute_result"
    }
   ],
   "source": [
    "# this matches with information that is given.\n",
    "df.nunique()"
   ]
  },
  {
   "cell_type": "code",
   "execution_count": 29,
   "metadata": {},
   "outputs": [
    {
     "data": {
      "text/plain": [
       "symboling              int64\n",
       "normalized-losses     object\n",
       "make                  object\n",
       "fuel-type             object\n",
       "aspiration            object\n",
       "num-of-door           object\n",
       "body-style            object\n",
       "drive-wheels          object\n",
       "engine-location       object\n",
       "wheel-base           float64\n",
       "length               float64\n",
       "width                float64\n",
       "height               float64\n",
       "curb-weight            int64\n",
       "engine-type           object\n",
       "num-of-cylinders      object\n",
       "engine-size            int64\n",
       "fuel-system           object\n",
       "bore                  object\n",
       "stroke                object\n",
       "compression-ratio    float64\n",
       "horsepower            object\n",
       "peak-rpm              object\n",
       "city-mpg               int64\n",
       "highway-mpg            int64\n",
       "price                 object\n",
       "dtype: object"
      ]
     },
     "execution_count": 29,
     "metadata": {},
     "output_type": "execute_result"
    }
   ],
   "source": [
    "# data type of each attribute\n",
    "# list of attribute that is numerical: symboling, wheel-base, length, width, height, curb-weight, engine-size, compression-ratio, city-mpg, highway-mpg.\n",
    "# list of the categorical types: normalized-looses, make, fuel-type, aspiration, num-of-door, body-style, drive-wheels, engine-location, engine-type, fuel-system, bore, stroke, horsepower, peak-rpm, price.\n",
    "df.dtypes"
   ]
  },
  {
   "cell_type": "code",
   "execution_count": 30,
   "metadata": {},
   "outputs": [
    {
     "data": {
      "text/plain": [
       "symboling            0\n",
       "normalized-losses    0\n",
       "make                 0\n",
       "fuel-type            0\n",
       "aspiration           0\n",
       "num-of-door          0\n",
       "body-style           0\n",
       "drive-wheels         0\n",
       "engine-location      0\n",
       "wheel-base           0\n",
       "length               0\n",
       "width                0\n",
       "height               0\n",
       "curb-weight          0\n",
       "engine-type          0\n",
       "num-of-cylinders     0\n",
       "engine-size          0\n",
       "fuel-system          0\n",
       "bore                 0\n",
       "stroke               0\n",
       "compression-ratio    0\n",
       "horsepower           0\n",
       "peak-rpm             0\n",
       "city-mpg             0\n",
       "highway-mpg          0\n",
       "price                0\n",
       "dtype: int64"
      ]
     },
     "execution_count": 30,
     "metadata": {},
     "output_type": "execute_result"
    }
   ],
   "source": [
    "# to see if there is missing value in each column\n",
    "# it seems like there is no missing value, but from above dataframe there is value with ?.\n",
    "\n",
    "df.isnull().sum()"
   ]
  },
  {
   "cell_type": "code",
   "execution_count": 31,
   "metadata": {},
   "outputs": [
    {
     "data": {
      "text/plain": [
       "symboling             0\n",
       "normalized-losses    41\n",
       "make                  0\n",
       "fuel-type             0\n",
       "aspiration            0\n",
       "num-of-door           2\n",
       "body-style            0\n",
       "drive-wheels          0\n",
       "engine-location       0\n",
       "wheel-base            0\n",
       "length                0\n",
       "width                 0\n",
       "height                0\n",
       "curb-weight           0\n",
       "engine-type           0\n",
       "num-of-cylinders      0\n",
       "engine-size           0\n",
       "fuel-system           0\n",
       "bore                  4\n",
       "stroke                4\n",
       "compression-ratio     0\n",
       "horsepower            2\n",
       "peak-rpm              2\n",
       "city-mpg              0\n",
       "highway-mpg           0\n",
       "price                 4\n",
       "dtype: int64"
      ]
     },
     "execution_count": 31,
     "metadata": {},
     "output_type": "execute_result"
    }
   ],
   "source": [
    "# to count how many '?' in each column \n",
    "# from this I can see: \n",
    "#   there are 41 rows in the normalized-losses column value with '?'\n",
    "#   there are 2 rows in the num-of-door column value with '?'\n",
    "#   there are 4 rows in the bore column value with '?'\n",
    "#   there are 4 rows in the stroke column value with '?'\n",
    "#   there are 2 rows in the horsepower column value with '?'\n",
    "#   there are 2 rows in the peak-rpm column value with '?'\n",
    "#   there are 4 rows in the price column value with '?'\n",
    "df[df =='?'].count()"
   ]
  },
  {
   "cell_type": "code",
   "execution_count": 32,
   "metadata": {},
   "outputs": [
    {
     "name": "stdout",
     "output_type": "stream",
     "text": [
      "normalized-losses:\n",
      "['?' '164' '158' '192' '188' '121' '98' '81' '118' '148' '110' '145' '137'\n",
      " '101' '78' '106' '85' '107' '104' '113' '150' '129' '115' '93' '142'\n",
      " '161' '153' '125' '128' '122' '103' '168' '108' '194' '231' '119' '154'\n",
      " '74' '186' '83' '102' '89' '87' '77' '91' '134' '65' '197' '90' '94'\n",
      " '256' '95']\n",
      "\n",
      "make:\n",
      "['alfa-romero' 'audi' 'bmw' 'chevrolet' 'dodge' 'honda' 'isuzu' 'jaguar'\n",
      " 'mazda' 'mercedes-benz' 'mercury' 'mitsubishi' 'nissan' 'peugot'\n",
      " 'plymouth' 'porsche' 'renault' 'saab' 'subaru' 'toyota' 'volkswagen'\n",
      " 'volvo']\n",
      "\n",
      "fuel-type:\n",
      "['gas' 'diesel']\n",
      "\n",
      "aspiration:\n",
      "['std' 'turbo']\n",
      "\n",
      "num-of-door:\n",
      "['two' 'four' '?']\n",
      "\n",
      "body-style:\n",
      "['convertible' 'hatchback' 'sedan' 'wagon' 'hardtop']\n",
      "\n",
      "drive-wheels:\n",
      "['rwd' 'fwd' '4wd']\n",
      "\n",
      "engine-location:\n",
      "['front' 'rear']\n",
      "\n",
      "engine-type:\n",
      "['dohc' 'ohcv' 'ohc' 'l' 'rotor' 'ohcf' 'dohcv']\n",
      "\n",
      "num-of-cylinders:\n",
      "['four' 'six' 'five' 'three' 'twelve' 'two' 'eight']\n",
      "\n",
      "fuel-system:\n",
      "['mpfi' '2bbl' 'mfi' '1bbl' 'spfi' '4bbl' 'idi' 'spdi']\n",
      "\n",
      "bore:\n",
      "['3.47' '2.68' '3.19' '3.13' '3.50' '3.31' '3.62' '2.91' '3.03' '2.97'\n",
      " '3.34' '3.60' '2.92' '3.15' '3.43' '3.63' '3.54' '3.08' '?' '3.39' '3.76'\n",
      " '3.58' '3.46' '3.80' '3.78' '3.17' '3.35' '3.59' '2.99' '3.33' '3.70'\n",
      " '3.61' '3.94' '3.74' '2.54' '3.05' '3.27' '3.24' '3.01']\n",
      "\n",
      "peak-rpm:\n",
      "['5000' '5500' '5800' '4250' '5400' '5100' '4800' '6000' '4750' '4650'\n",
      " '4200' '4350' '4500' '5200' '4150' '5600' '5900' '5750' '?' '5250' '4900'\n",
      " '4400' '6600' '5300']\n",
      "\n",
      "price:\n",
      "['13495' '16500' '13950' '17450' '15250' '17710' '18920' '23875' '?'\n",
      " '16430' '16925' '20970' '21105' '24565' '30760' '41315' '36880' '5151'\n",
      " '6295' '6575' '5572' '6377' '7957' '6229' '6692' '7609' '8558' '8921'\n",
      " '12964' '6479' '6855' '5399' '6529' '7129' '7295' '7895' '9095' '8845'\n",
      " '10295' '12945' '10345' '6785' '11048' '32250' '35550' '36000' '5195'\n",
      " '6095' '6795' '6695' '7395' '10945' '11845' '13645' '15645' '8495'\n",
      " '10595' '10245' '10795' '11245' '18280' '18344' '25552' '28248' '28176'\n",
      " '31600' '34184' '35056' '40960' '45400' '16503' '5389' '6189' '6669'\n",
      " '7689' '9959' '8499' '12629' '14869' '14489' '6989' '8189' '9279' '5499'\n",
      " '7099' '6649' '6849' '7349' '7299' '7799' '7499' '7999' '8249' '8949'\n",
      " '9549' '13499' '14399' '17199' '19699' '18399' '11900' '13200' '12440'\n",
      " '13860' '15580' '16900' '16695' '17075' '16630' '17950' '18150' '12764'\n",
      " '22018' '32528' '34028' '37028' '9295' '9895' '11850' '12170' '15040'\n",
      " '15510' '18620' '5118' '7053' '7603' '7126' '7775' '9960' '9233' '11259'\n",
      " '7463' '10198' '8013' '11694' '5348' '6338' '6488' '6918' '7898' '8778'\n",
      " '6938' '7198' '7788' '7738' '8358' '9258' '8058' '8238' '9298' '9538'\n",
      " '8449' '9639' '9989' '11199' '11549' '17669' '8948' '10698' '9988'\n",
      " '10898' '11248' '16558' '15998' '15690' '15750' '7975' '7995' '8195'\n",
      " '9495' '9995' '11595' '9980' '13295' '13845' '12290' '12940' '13415'\n",
      " '15985' '16515' '18420' '18950' '16845' '19045' '21485' '22470' '22625']\n",
      "\n",
      "{'160', '120', '121', '111', '84', '140', '101', '78', '?', '156', '116', '145', '100', '52', '114', '56', '69', '72', '110', '112', '106', '86', '176', '88', '90', '152', '55', '62', '76', '94', '262', '58', '68', '82', '48', '154', '70', '95', '175', '92', '102', '135', '182', '200', '85', '143', '73', '123', '288', '161', '184', '64', '60', '155', '207', '134', '115', '97', '162', '142'}\n",
      "{'3.11', '3.52', '?', '2.87', '2.19', '3.19', '3.35', '2.36', '3.07', '2.07', '3.03', '3.40', '3.29', '3.27', '3.41', '3.47', '2.90', '3.50', '3.08', '2.80', '3.15', '3.90', '3.58', '3.21', '3.10', '3.39', '3.46', '3.23', '3.54', '3.16', '2.76', '2.68', '3.12', '3.86', '4.17', '2.64', '3.64'}\n"
     ]
    }
   ],
   "source": [
    "# check if there is another non sense value other than ?\n",
    "vals = df[['normalized-losses', 'make',\n",
    "           'fuel-type', 'aspiration', 'num-of-door', 'body-style', 'drive-wheels', 'engine-location', 'engine-type', 'num-of-cylinders', 'fuel-system', 'bore',  'peak-rpm', 'price']].copy()\n",
    "\n",
    "for x in range(len(vals.columns)):\n",
    "    print(vals.columns[x] + ':')\n",
    "    print(vals[vals.columns[x]].unique())\n",
    "    print('')\n",
    "\n",
    "print(set(df['horsepower'].tolist()))\n",
    "print(set(df['stroke'].tolist()))"
   ]
  },
  {
   "cell_type": "code",
   "execution_count": 33,
   "metadata": {},
   "outputs": [
    {
     "data": {
      "text/plain": [
       "<AxesSubplot:title={'center':'Brands of Cars'}>"
      ]
     },
     "execution_count": 33,
     "metadata": {},
     "output_type": "execute_result"
    },
    {
     "data": {
      "image/png": "[encoded data removed]",
      "text/plain": [
       "<Figure size 1080x720 with 1 Axes>"
      ]
     },
     "metadata": {
      "needs_background": "light"
     },
     "output_type": "display_data"
    }
   ],
   "source": [
    "# check car for each brand\n",
    "plt.figure(figsize=(15,10))\n",
    "make_bar = df['make'].value_counts().plot.bar(title ='Brands of Cars')\n",
    "make_bar"
   ]
  },
  {
   "cell_type": "code",
   "execution_count": 34,
   "metadata": {},
   "outputs": [
    {
     "data": {
      "text/plain": [
       "<AxesSubplot:title={'center':'body-style'}>"
      ]
     },
     "execution_count": 34,
     "metadata": {},
     "output_type": "execute_result"
    },
    {
     "data": {
      "image/png": "[encoded data removed]",
      "text/plain": [
       "<Figure size 432x288 with 1 Axes>"
      ]
     },
     "metadata": {
      "needs_background": "light"
     },
     "output_type": "display_data"
    }
   ],
   "source": [
    "# check which body-style is popular among in the data set\n",
    "body_style = df['body-style'].value_counts().plot.bar(title ='body-style')\n",
    "body_style\n"
   ]
  },
  {
   "cell_type": "code",
   "execution_count": 35,
   "metadata": {},
   "outputs": [
    {
     "data": {
      "image/png": "[encoded data removed]",
      "text/plain": [
       "<Figure size 1440x720 with 1 Axes>"
      ]
     },
     "metadata": {
      "needs_background": "light"
     },
     "output_type": "display_data"
    }
   ],
   "source": [
    "# check which horsepower that most people likes.\n",
    "plt.figure(figsize=(20,10))\n",
    "\n",
    "\n",
    "horse = df['horsepower'].value_counts().plot.bar(title = 'horse power')\n"
   ]
  },
  {
   "cell_type": "code",
   "execution_count": 36,
   "metadata": {},
   "outputs": [
    {
     "data": {
      "text/plain": [
       "<AxesSubplot:title={'center':'Risk Rating'}>"
      ]
     },
     "execution_count": 36,
     "metadata": {},
     "output_type": "execute_result"
    },
    {
     "data": {
      "image/png": "[encoded data removed]",
      "text/plain": [
       "<Figure size 1080x720 with 1 Axes>"
      ]
     },
     "metadata": {
      "needs_background": "light"
     },
     "output_type": "display_data"
    }
   ],
   "source": [
    "# check cars land in which risk rating category\n",
    "plt.figure(figsize=(15, 10))\n",
    "rist_rating = df['symboling'].value_counts().plot.bar(title ='Risk Rating')\n",
    "rist_rating"
   ]
  },
  {
   "cell_type": "code",
   "execution_count": 37,
   "metadata": {},
   "outputs": [
    {
     "data": {
      "text/plain": [
       "<AxesSubplot:title={'center':'Fuel Type'}>"
      ]
     },
     "execution_count": 37,
     "metadata": {},
     "output_type": "execute_result"
    },
    {
     "data": {
      "image/png": "[encoded data removed]",
      "text/plain": [
       "<Figure size 432x288 with 1 Axes>"
      ]
     },
     "metadata": {
      "needs_background": "light"
     },
     "output_type": "display_data"
    }
   ],
   "source": [
    "# check fuel type\n",
    "fuel_type = df['fuel-type'].value_counts().plot.bar(title = 'Fuel Type')\n",
    "fuel_type"
   ]
  },
  {
   "cell_type": "code",
   "execution_count": 38,
   "metadata": {},
   "outputs": [
    {
     "data": {
      "text/plain": [
       "<AxesSubplot:title={'center':'Aspiration Type'}, ylabel='aspiration'>"
      ]
     },
     "execution_count": 38,
     "metadata": {},
     "output_type": "execute_result"
    },
    {
     "data": {
      "image/png": "[encoded data removed]",
      "text/plain": [
       "<Figure size 432x288 with 1 Axes>"
      ]
     },
     "metadata": {},
     "output_type": "display_data"
    }
   ],
   "source": [
    "# check aspiration type\n",
    "\n",
    "aspiration = df['aspiration'].value_counts().plot.pie(title = 'Aspiration Type')\n",
    "aspiration\n"
   ]
  },
  {
   "cell_type": "markdown",
   "metadata": {},
   "source": [
    "#### Finding\n",
    "- Toyota makes most cars in this data set, Nissan second.\n",
    "- Most prefered Aspiration type is standar.\n",
    "- Most prefered feul type is gas.\n",
    "- Most risk rating is 0.\n",
    "- Most prefered horsepower is 68.\n",
    "- Most prefered number of doot is 4.\n",
    "- Most prefered sedan as body style."
   ]
  },
  {
   "cell_type": "code",
   "execution_count": 39,
   "metadata": {},
   "outputs": [
    {
     "data": {
      "image/png": "[encoded data removed]",
      "text/plain": [
       "<Figure size 1080x576 with 1 Axes>"
      ]
     },
     "metadata": {
      "needs_background": "light"
     },
     "output_type": "display_data"
    }
   ],
   "source": [
    "# see the relation between price and engine size\n",
    "import seaborn as sns\n",
    "\n",
    "plt.figure(figsize=(15, 8))\n",
    "df['price'] = pd.to_numeric(df['price'],errors='coerce').astype('float')\n",
    "df['engine-size'] = pd.to_numeric(df['engine-size'], errors='coerce').astype('float')\n",
    "data = df[['price','engine-size']].copy()\n",
    "\n",
    "g = sns.scatterplot(data=data,x = 'price',y = 'engine-size');\n",
    "\n"
   ]
  },
  {
   "cell_type": "markdown",
   "metadata": {},
   "source": [
    "From the above graph, I can see that the larger the engine size, the more expensive it is. Most cars are in the 5000 to 18000 price range, and engine sizes are in the 60 to 180 range."
   ]
  },
  {
   "cell_type": "code",
   "execution_count": 40,
   "metadata": {},
   "outputs": [
    {
     "data": {
      "image/png": "[encoded data removed]",
      "text/plain": [
       "<Figure size 1080x576 with 1 Axes>"
      ]
     },
     "metadata": {
      "needs_background": "light"
     },
     "output_type": "display_data"
    }
   ],
   "source": [
    "# check the relation between symboling and normalized loose\n",
    "df['symboling'] = pd.to_numeric(\n",
    "    df['symboling'], errors='coerce').astype('float')\n",
    "df['normalized-losses'] = pd.to_numeric(\n",
    "    df['normalized-losses'], errors='coerce').astype('float')\n",
    "plt.figure(figsize=(15, 8))\n",
    "data = df[['symboling', 'normalized-losses']]\n",
    "g = sns.scatterplot(data=data, x='normalized-losses', y= 'symboling')\n"
   ]
  },
  {
   "cell_type": "code",
   "execution_count": 41,
   "metadata": {},
   "outputs": [
    {
     "data": {
      "text/plain": [
       "<AxesSubplot:xlabel='make', ylabel='price'>"
      ]
     },
     "execution_count": 41,
     "metadata": {},
     "output_type": "execute_result"
    },
    {
     "data": {
      "image/png": "[encoded data removed]",
      "text/plain": [
       "<Figure size 1800x576 with 1 Axes>"
      ]
     },
     "metadata": {
      "needs_background": "light"
     },
     "output_type": "display_data"
    }
   ],
   "source": [
    "plt.figure(figsize=(25, 8))\n",
    "vals = df[['make','price']].copy()\n",
    "sns.boxplot(data =vals,x = 'make',y = 'price')"
   ]
  },
  {
   "cell_type": "markdown",
   "metadata": {},
   "source": [
    "From the above boxplot there are some outlier for some brands, but it is in some reasonable range."
   ]
  },
  {
   "cell_type": "markdown",
   "metadata": {},
   "source": [
    "#### Heatmap"
   ]
  },
  {
   "cell_type": "code",
   "execution_count": 42,
   "metadata": {},
   "outputs": [
    {
     "data": {
      "text/plain": [
       "<AxesSubplot:>"
      ]
     },
     "execution_count": 42,
     "metadata": {},
     "output_type": "execute_result"
    },
    {
     "data": {
      "image/png": "[encoded data removed]",
      "text/plain": [
       "<Figure size 432x288 with 2 Axes>"
      ]
     },
     "metadata": {
      "needs_background": "light"
     },
     "output_type": "display_data"
    }
   ],
   "source": [
    "corr = df.corr()\n",
    "sns.heatmap(data = corr, square=True, annot = True, cbar = True)"
   ]
  },
  {
   "cell_type": "markdown",
   "metadata": {},
   "source": [
    "From the above graph\n",
    "1. Car price is related to engine size, curb weight, width, and length.\n",
    "2. Engine size is related to width, length, and curb weight.\n",
    "2. wheel base is related to length, width and curb weight."
   ]
  },
  {
   "cell_type": "code",
   "execution_count": 43,
   "metadata": {},
   "outputs": [
    {
     "data": {
      "text/html": [
       "<div>\n",
       "<style scoped>\n",
       "    .dataframe tbody tr th:only-of-type {\n",
       "        vertical-align: middle;\n",
       "    }\n",
       "\n",
       "    .dataframe tbody tr th {\n",
       "        vertical-align: top;\n",
       "    }\n",
       "\n",
       "    .dataframe thead th {\n",
       "        text-align: right;\n",
       "    }\n",
       "</style>\n",
       "<table border=\"1\" class=\"dataframe\">\n",
       "  <thead>\n",
       "    <tr style=\"text-align: right;\">\n",
       "      <th></th>\n",
       "      <th>symboling</th>\n",
       "      <th>normalized-losses</th>\n",
       "      <th>wheel-base</th>\n",
       "      <th>length</th>\n",
       "      <th>width</th>\n",
       "      <th>height</th>\n",
       "      <th>curb-weight</th>\n",
       "      <th>engine-size</th>\n",
       "      <th>compression-ratio</th>\n",
       "      <th>city-mpg</th>\n",
       "      <th>highway-mpg</th>\n",
       "      <th>price</th>\n",
       "    </tr>\n",
       "  </thead>\n",
       "  <tbody>\n",
       "    <tr>\n",
       "      <th>count</th>\n",
       "      <td>205.000000</td>\n",
       "      <td>164.000000</td>\n",
       "      <td>205.000000</td>\n",
       "      <td>205.000000</td>\n",
       "      <td>205.000000</td>\n",
       "      <td>205.000000</td>\n",
       "      <td>205.000000</td>\n",
       "      <td>205.000000</td>\n",
       "      <td>205.000000</td>\n",
       "      <td>205.000000</td>\n",
       "      <td>205.000000</td>\n",
       "      <td>201.000000</td>\n",
       "    </tr>\n",
       "    <tr>\n",
       "      <th>mean</th>\n",
       "      <td>0.834146</td>\n",
       "      <td>122.000000</td>\n",
       "      <td>98.756585</td>\n",
       "      <td>174.049268</td>\n",
       "      <td>65.907805</td>\n",
       "      <td>53.724878</td>\n",
       "      <td>2555.565854</td>\n",
       "      <td>126.907317</td>\n",
       "      <td>10.142537</td>\n",
       "      <td>25.219512</td>\n",
       "      <td>30.751220</td>\n",
       "      <td>13207.129353</td>\n",
       "    </tr>\n",
       "    <tr>\n",
       "      <th>std</th>\n",
       "      <td>1.245307</td>\n",
       "      <td>35.442168</td>\n",
       "      <td>6.021776</td>\n",
       "      <td>12.337289</td>\n",
       "      <td>2.145204</td>\n",
       "      <td>2.443522</td>\n",
       "      <td>520.680204</td>\n",
       "      <td>41.642693</td>\n",
       "      <td>3.972040</td>\n",
       "      <td>6.542142</td>\n",
       "      <td>6.886443</td>\n",
       "      <td>7947.066342</td>\n",
       "    </tr>\n",
       "    <tr>\n",
       "      <th>min</th>\n",
       "      <td>-2.000000</td>\n",
       "      <td>65.000000</td>\n",
       "      <td>86.600000</td>\n",
       "      <td>141.100000</td>\n",
       "      <td>60.300000</td>\n",
       "      <td>47.800000</td>\n",
       "      <td>1488.000000</td>\n",
       "      <td>61.000000</td>\n",
       "      <td>7.000000</td>\n",
       "      <td>13.000000</td>\n",
       "      <td>16.000000</td>\n",
       "      <td>5118.000000</td>\n",
       "    </tr>\n",
       "    <tr>\n",
       "      <th>25%</th>\n",
       "      <td>0.000000</td>\n",
       "      <td>94.000000</td>\n",
       "      <td>94.500000</td>\n",
       "      <td>166.300000</td>\n",
       "      <td>64.100000</td>\n",
       "      <td>52.000000</td>\n",
       "      <td>2145.000000</td>\n",
       "      <td>97.000000</td>\n",
       "      <td>8.600000</td>\n",
       "      <td>19.000000</td>\n",
       "      <td>25.000000</td>\n",
       "      <td>7775.000000</td>\n",
       "    </tr>\n",
       "    <tr>\n",
       "      <th>50%</th>\n",
       "      <td>1.000000</td>\n",
       "      <td>115.000000</td>\n",
       "      <td>97.000000</td>\n",
       "      <td>173.200000</td>\n",
       "      <td>65.500000</td>\n",
       "      <td>54.100000</td>\n",
       "      <td>2414.000000</td>\n",
       "      <td>120.000000</td>\n",
       "      <td>9.000000</td>\n",
       "      <td>24.000000</td>\n",
       "      <td>30.000000</td>\n",
       "      <td>10295.000000</td>\n",
       "    </tr>\n",
       "    <tr>\n",
       "      <th>75%</th>\n",
       "      <td>2.000000</td>\n",
       "      <td>150.000000</td>\n",
       "      <td>102.400000</td>\n",
       "      <td>183.100000</td>\n",
       "      <td>66.900000</td>\n",
       "      <td>55.500000</td>\n",
       "      <td>2935.000000</td>\n",
       "      <td>141.000000</td>\n",
       "      <td>9.400000</td>\n",
       "      <td>30.000000</td>\n",
       "      <td>34.000000</td>\n",
       "      <td>16500.000000</td>\n",
       "    </tr>\n",
       "    <tr>\n",
       "      <th>max</th>\n",
       "      <td>3.000000</td>\n",
       "      <td>256.000000</td>\n",
       "      <td>120.900000</td>\n",
       "      <td>208.100000</td>\n",
       "      <td>72.300000</td>\n",
       "      <td>59.800000</td>\n",
       "      <td>4066.000000</td>\n",
       "      <td>326.000000</td>\n",
       "      <td>23.000000</td>\n",
       "      <td>49.000000</td>\n",
       "      <td>54.000000</td>\n",
       "      <td>45400.000000</td>\n",
       "    </tr>\n",
       "  </tbody>\n",
       "</table>\n",
       "</div>"
      ],
      "text/plain": [
       "        symboling  normalized-losses  wheel-base      length       width  \\\n",
       "count  205.000000         164.000000  205.000000  205.000000  205.000000   \n",
       "mean     0.834146         122.000000   98.756585  174.049268   65.907805   \n",
       "std      1.245307          35.442168    6.021776   12.337289    2.145204   \n",
       "min     -2.000000          65.000000   86.600000  141.100000   60.300000   \n",
       "25%      0.000000          94.000000   94.500000  166.300000   64.100000   \n",
       "50%      1.000000         115.000000   97.000000  173.200000   65.500000   \n",
       "75%      2.000000         150.000000  102.400000  183.100000   66.900000   \n",
       "max      3.000000         256.000000  120.900000  208.100000   72.300000   \n",
       "\n",
       "           height  curb-weight  engine-size  compression-ratio    city-mpg  \\\n",
       "count  205.000000   205.000000   205.000000         205.000000  205.000000   \n",
       "mean    53.724878  2555.565854   126.907317          10.142537   25.219512   \n",
       "std      2.443522   520.680204    41.642693           3.972040    6.542142   \n",
       "min     47.800000  1488.000000    61.000000           7.000000   13.000000   \n",
       "25%     52.000000  2145.000000    97.000000           8.600000   19.000000   \n",
       "50%     54.100000  2414.000000   120.000000           9.000000   24.000000   \n",
       "75%     55.500000  2935.000000   141.000000           9.400000   30.000000   \n",
       "max     59.800000  4066.000000   326.000000          23.000000   49.000000   \n",
       "\n",
       "       highway-mpg         price  \n",
       "count   205.000000    201.000000  \n",
       "mean     30.751220  13207.129353  \n",
       "std       6.886443   7947.066342  \n",
       "min      16.000000   5118.000000  \n",
       "25%      25.000000   7775.000000  \n",
       "50%      30.000000  10295.000000  \n",
       "75%      34.000000  16500.000000  \n",
       "max      54.000000  45400.000000  "
      ]
     },
     "execution_count": 43,
     "metadata": {},
     "output_type": "execute_result"
    }
   ],
   "source": [
    "df.describe()"
   ]
  },
  {
   "cell_type": "markdown",
   "metadata": {},
   "source": [
    "#### EDA Summary \n",
    "There are some missing values, but it is ok. No big outliers, and reasonable data value overall. Price is related to engine size and car size. Most people prefered sedan style over other styles, and most fuel type is gas. The car price depends on engine size, curb weight, width, and length.  Engine size also depends on the size of a car. If a car's symboling is high then its normalized losses is also high."
   ]
  },
  {
   "cell_type": "code",
   "execution_count": 44,
   "metadata": {},
   "outputs": [
    {
     "data": {
      "text/html": [
       "<div>\n",
       "<style scoped>\n",
       "    .dataframe tbody tr th:only-of-type {\n",
       "        vertical-align: middle;\n",
       "    }\n",
       "\n",
       "    .dataframe tbody tr th {\n",
       "        vertical-align: top;\n",
       "    }\n",
       "\n",
       "    .dataframe thead th {\n",
       "        text-align: right;\n",
       "    }\n",
       "</style>\n",
       "<table border=\"1\" class=\"dataframe\">\n",
       "  <thead>\n",
       "    <tr style=\"text-align: right;\">\n",
       "      <th></th>\n",
       "      <th>symboling</th>\n",
       "      <th>normalized-losses</th>\n",
       "      <th>make</th>\n",
       "      <th>fuel-type</th>\n",
       "      <th>aspiration</th>\n",
       "      <th>num-of-door</th>\n",
       "      <th>body-style</th>\n",
       "      <th>drive-wheels</th>\n",
       "      <th>engine-location</th>\n",
       "      <th>wheel-base</th>\n",
       "      <th>length</th>\n",
       "      <th>width</th>\n",
       "      <th>height</th>\n",
       "      <th>curb-weight</th>\n",
       "      <th>engine-type</th>\n",
       "      <th>num-of-cylinders</th>\n",
       "      <th>engine-size</th>\n",
       "      <th>fuel-system</th>\n",
       "      <th>bore</th>\n",
       "      <th>stroke</th>\n",
       "      <th>compression-ratio</th>\n",
       "      <th>horsepower</th>\n",
       "      <th>peak-rpm</th>\n",
       "      <th>city-mpg</th>\n",
       "      <th>highway-mpg</th>\n",
       "      <th>price</th>\n",
       "    </tr>\n",
       "  </thead>\n",
       "  <tbody>\n",
       "    <tr>\n",
       "      <th>0</th>\n",
       "      <td>3.0</td>\n",
       "      <td>NaN</td>\n",
       "      <td>alfa-romero</td>\n",
       "      <td>gas</td>\n",
       "      <td>std</td>\n",
       "      <td>two</td>\n",
       "      <td>convertible</td>\n",
       "      <td>rwd</td>\n",
       "      <td>front</td>\n",
       "      <td>88.6</td>\n",
       "      <td>168.8</td>\n",
       "      <td>64.1</td>\n",
       "      <td>48.8</td>\n",
       "      <td>2548</td>\n",
       "      <td>dohc</td>\n",
       "      <td>four</td>\n",
       "      <td>130.0</td>\n",
       "      <td>mpfi</td>\n",
       "      <td>3.47</td>\n",
       "      <td>2.68</td>\n",
       "      <td>9.0</td>\n",
       "      <td>111</td>\n",
       "      <td>5000</td>\n",
       "      <td>21</td>\n",
       "      <td>27</td>\n",
       "      <td>13495.0</td>\n",
       "    </tr>\n",
       "    <tr>\n",
       "      <th>1</th>\n",
       "      <td>3.0</td>\n",
       "      <td>NaN</td>\n",
       "      <td>alfa-romero</td>\n",
       "      <td>gas</td>\n",
       "      <td>std</td>\n",
       "      <td>two</td>\n",
       "      <td>convertible</td>\n",
       "      <td>rwd</td>\n",
       "      <td>front</td>\n",
       "      <td>88.6</td>\n",
       "      <td>168.8</td>\n",
       "      <td>64.1</td>\n",
       "      <td>48.8</td>\n",
       "      <td>2548</td>\n",
       "      <td>dohc</td>\n",
       "      <td>four</td>\n",
       "      <td>130.0</td>\n",
       "      <td>mpfi</td>\n",
       "      <td>3.47</td>\n",
       "      <td>2.68</td>\n",
       "      <td>9.0</td>\n",
       "      <td>111</td>\n",
       "      <td>5000</td>\n",
       "      <td>21</td>\n",
       "      <td>27</td>\n",
       "      <td>16500.0</td>\n",
       "    </tr>\n",
       "    <tr>\n",
       "      <th>2</th>\n",
       "      <td>1.0</td>\n",
       "      <td>NaN</td>\n",
       "      <td>alfa-romero</td>\n",
       "      <td>gas</td>\n",
       "      <td>std</td>\n",
       "      <td>two</td>\n",
       "      <td>hatchback</td>\n",
       "      <td>rwd</td>\n",
       "      <td>front</td>\n",
       "      <td>94.5</td>\n",
       "      <td>171.2</td>\n",
       "      <td>65.5</td>\n",
       "      <td>52.4</td>\n",
       "      <td>2823</td>\n",
       "      <td>ohcv</td>\n",
       "      <td>six</td>\n",
       "      <td>152.0</td>\n",
       "      <td>mpfi</td>\n",
       "      <td>2.68</td>\n",
       "      <td>3.47</td>\n",
       "      <td>9.0</td>\n",
       "      <td>154</td>\n",
       "      <td>5000</td>\n",
       "      <td>19</td>\n",
       "      <td>26</td>\n",
       "      <td>16500.0</td>\n",
       "    </tr>\n",
       "    <tr>\n",
       "      <th>3</th>\n",
       "      <td>2.0</td>\n",
       "      <td>164.0</td>\n",
       "      <td>audi</td>\n",
       "      <td>gas</td>\n",
       "      <td>std</td>\n",
       "      <td>four</td>\n",
       "      <td>sedan</td>\n",
       "      <td>fwd</td>\n",
       "      <td>front</td>\n",
       "      <td>99.8</td>\n",
       "      <td>176.6</td>\n",
       "      <td>66.2</td>\n",
       "      <td>54.3</td>\n",
       "      <td>2337</td>\n",
       "      <td>ohc</td>\n",
       "      <td>four</td>\n",
       "      <td>109.0</td>\n",
       "      <td>mpfi</td>\n",
       "      <td>3.19</td>\n",
       "      <td>3.40</td>\n",
       "      <td>10.0</td>\n",
       "      <td>102</td>\n",
       "      <td>5500</td>\n",
       "      <td>24</td>\n",
       "      <td>30</td>\n",
       "      <td>13950.0</td>\n",
       "    </tr>\n",
       "    <tr>\n",
       "      <th>4</th>\n",
       "      <td>2.0</td>\n",
       "      <td>164.0</td>\n",
       "      <td>audi</td>\n",
       "      <td>gas</td>\n",
       "      <td>std</td>\n",
       "      <td>four</td>\n",
       "      <td>sedan</td>\n",
       "      <td>4wd</td>\n",
       "      <td>front</td>\n",
       "      <td>99.4</td>\n",
       "      <td>176.6</td>\n",
       "      <td>66.4</td>\n",
       "      <td>54.3</td>\n",
       "      <td>2824</td>\n",
       "      <td>ohc</td>\n",
       "      <td>five</td>\n",
       "      <td>136.0</td>\n",
       "      <td>mpfi</td>\n",
       "      <td>3.19</td>\n",
       "      <td>3.40</td>\n",
       "      <td>8.0</td>\n",
       "      <td>115</td>\n",
       "      <td>5500</td>\n",
       "      <td>18</td>\n",
       "      <td>22</td>\n",
       "      <td>17450.0</td>\n",
       "    </tr>\n",
       "  </tbody>\n",
       "</table>\n",
       "</div>"
      ],
      "text/plain": [
       "   symboling  normalized-losses         make fuel-type aspiration num-of-door  \\\n",
       "0        3.0                NaN  alfa-romero       gas        std         two   \n",
       "1        3.0                NaN  alfa-romero       gas        std         two   \n",
       "2        1.0                NaN  alfa-romero       gas        std         two   \n",
       "3        2.0              164.0         audi       gas        std        four   \n",
       "4        2.0              164.0         audi       gas        std        four   \n",
       "\n",
       "    body-style drive-wheels engine-location  wheel-base  length  width  \\\n",
       "0  convertible          rwd           front        88.6   168.8   64.1   \n",
       "1  convertible          rwd           front        88.6   168.8   64.1   \n",
       "2    hatchback          rwd           front        94.5   171.2   65.5   \n",
       "3        sedan          fwd           front        99.8   176.6   66.2   \n",
       "4        sedan          4wd           front        99.4   176.6   66.4   \n",
       "\n",
       "   height  curb-weight engine-type num-of-cylinders  engine-size fuel-system  \\\n",
       "0    48.8         2548        dohc             four        130.0        mpfi   \n",
       "1    48.8         2548        dohc             four        130.0        mpfi   \n",
       "2    52.4         2823        ohcv              six        152.0        mpfi   \n",
       "3    54.3         2337         ohc             four        109.0        mpfi   \n",
       "4    54.3         2824         ohc             five        136.0        mpfi   \n",
       "\n",
       "   bore stroke  compression-ratio horsepower peak-rpm  city-mpg  highway-mpg  \\\n",
       "0  3.47   2.68                9.0        111     5000        21           27   \n",
       "1  3.47   2.68                9.0        111     5000        21           27   \n",
       "2  2.68   3.47                9.0        154     5000        19           26   \n",
       "3  3.19   3.40               10.0        102     5500        24           30   \n",
       "4  3.19   3.40                8.0        115     5500        18           22   \n",
       "\n",
       "     price  \n",
       "0  13495.0  \n",
       "1  16500.0  \n",
       "2  16500.0  \n",
       "3  13950.0  \n",
       "4  17450.0  "
      ]
     },
     "execution_count": 44,
     "metadata": {},
     "output_type": "execute_result"
    }
   ],
   "source": [
    "# change column value with ? to by its column median\n",
    "\n",
    "cp_df = df.copy()\n",
    "\n",
    "# cp_df['normalized-losses'].fillna(cp_df['normalized-losses'].median(),inplace=True)\n",
    "\n",
    "# for val in cp_df:\n",
    "#     cp_df[val].replace(['?'], [cp_df[val].value_counts().index[0]],inplace=True)\n",
    "\n",
    "\n",
    "cp_df.head()"
   ]
  },
  {
   "cell_type": "markdown",
   "metadata": {},
   "source": [
    "#### Question 1\n",
    "list of attribute that is numerical: symboling, wheel-base, length, width, height, curb-weight, engine-size, compression-ratio, city-mpg, highway-mpg.\n",
    "\n",
    "- symboling  require to perform binarizer scaling because its range from -3 to 3, but I can simply set threshold to 0 everything below 0 is -1 else is 1.\n",
    "- wheel base also require to perform a scaling because its range is wide, it cant fit into machine model. I think min-max method is good for this feature.\n",
    "- length, width, height,curb-weight, engine size should not perform any scaling because it is kinda meaningful. because each one of them represent size of a car.\n",
    "\n"
   ]
  },
  {
   "cell_type": "markdown",
   "metadata": {},
   "source": [
    "#### Question 2\n",
    "\n",
    "There are 4 missing value in price column and 2 missing value in num-of-door column.\n",
    "\n"
   ]
  },
  {
   "cell_type": "code",
   "execution_count": 45,
   "metadata": {},
   "outputs": [
    {
     "data": {
      "text/plain": [
       "symboling             0\n",
       "normalized-losses    41\n",
       "make                  0\n",
       "num-of-door           0\n",
       "body-style            0\n",
       "drive-wheels          0\n",
       "wheel-base            0\n",
       "length                0\n",
       "width                 0\n",
       "height                0\n",
       "curb-weight           0\n",
       "engine-type           0\n",
       "num-of-cylinders      0\n",
       "engine-size           0\n",
       "fuel-system           0\n",
       "bore                  0\n",
       "stroke                0\n",
       "compression-ratio     0\n",
       "horsepower            0\n",
       "peak-rpm              0\n",
       "city-mpg              0\n",
       "highway-mpg           0\n",
       "price                 4\n",
       "dtype: int64"
      ]
     },
     "execution_count": 45,
     "metadata": {},
     "output_type": "execute_result"
    }
   ],
   "source": [
    "\n",
    "df_cp = df\n",
    "\n",
    "le = LabelEncoder()\n",
    "\n",
    "df_cp['make'] = le.fit_transform(df_cp['make'])\n",
    "df_cp['body-style'] = le.fit_transform(df_cp['body-style'])\n",
    "df_cp['drive-wheels'] = le.fit_transform(df_cp['drive-wheels'])\n",
    "df_cp['engine-type'] = le.fit_transform(df_cp['engine-type'])\n",
    "df_cp['num-of-cylinders'] = le.fit_transform(df_cp['num-of-cylinders'])\n",
    "df_cp['fuel-system'] = le.fit_transform(df_cp['fuel-system'])\n",
    "df_cp['peak-rpm']= le.fit_transform(df_cp['peak-rpm'])\n",
    "df_cp['horsepower'] = le.fit_transform(df_cp['horsepower'])\n",
    "\n",
    "\n",
    "df_cp['num-of-door']\n",
    "\n",
    "\n",
    "\n",
    "\n",
    "\n",
    "\n",
    "df_cp = df_cp.drop(['fuel-type', 'aspiration', 'engine-location'], axis=1)\n",
    "\n",
    "df_cp.isnull().sum()"
   ]
  },
  {
   "cell_type": "code",
   "execution_count": 46,
   "metadata": {},
   "outputs": [
    {
     "data": {
      "image/png": "[encoded data removed]",
      "text/plain": [
       "<Figure size 864x432 with 1 Axes>"
      ]
     },
     "metadata": {
      "needs_background": "light"
     },
     "output_type": "display_data"
    }
   ],
   "source": [
    "df_cp.isnull().sum().plot.bar(figsize=(12,6))\n",
    "plt.title('Total Missing value for each column')\n",
    "plt.xlabel('features')\n",
    "plt.ylabel('counts')\n",
    "df_cp.drop(['bore'], axis=1, inplace=True)\n",
    "df_cp.drop(['stroke'], axis=1, inplace=True)\n",
    "df_simple = df_cp.copy()\n",
    "df_it = df_cp.copy()"
   ]
  },
  {
   "cell_type": "code",
   "execution_count": 5,
   "metadata": {},
   "outputs": [
    {
     "data": {
      "text/plain": [
       "0       two\n",
       "1       two\n",
       "2       two\n",
       "3      four\n",
       "4      four\n",
       "5       two\n",
       "6      four\n",
       "7      four\n",
       "8      four\n",
       "9       two\n",
       "10      two\n",
       "11     four\n",
       "12      two\n",
       "13     four\n",
       "14     four\n",
       "15     four\n",
       "16      two\n",
       "17     four\n",
       "18      two\n",
       "19      two\n",
       "20     four\n",
       "21      two\n",
       "22      two\n",
       "23      two\n",
       "24     four\n",
       "25     four\n",
       "26     four\n",
       "27        ?\n",
       "28     four\n",
       "29      two\n",
       "30      two\n",
       "31      two\n",
       "32      two\n",
       "33      two\n",
       "34      two\n",
       "35     four\n",
       "36     four\n",
       "37      two\n",
       "38      two\n",
       "39     four\n",
       "40     four\n",
       "41     four\n",
       "42      two\n",
       "43     four\n",
       "44      two\n",
       "45     four\n",
       "46      two\n",
       "47     four\n",
       "48     four\n",
       "49      two\n",
       "50      two\n",
       "51      two\n",
       "52      two\n",
       "53     four\n",
       "54     four\n",
       "55      two\n",
       "56      two\n",
       "57      two\n",
       "58      two\n",
       "59      two\n",
       "60     four\n",
       "61      two\n",
       "62     four\n",
       "63        ?\n",
       "64     four\n",
       "65     four\n",
       "66     four\n",
       "67     four\n",
       "68     four\n",
       "69      two\n",
       "70     four\n",
       "71     four\n",
       "72      two\n",
       "73     four\n",
       "74      two\n",
       "75      two\n",
       "76      two\n",
       "77      two\n",
       "78      two\n",
       "79      two\n",
       "80      two\n",
       "81      two\n",
       "82      two\n",
       "83      two\n",
       "84      two\n",
       "85     four\n",
       "86     four\n",
       "87     four\n",
       "88     four\n",
       "89      two\n",
       "90      two\n",
       "91      two\n",
       "92     four\n",
       "93     four\n",
       "94      two\n",
       "95      two\n",
       "96     four\n",
       "97     four\n",
       "98      two\n",
       "99     four\n",
       "100    four\n",
       "101    four\n",
       "102    four\n",
       "103    four\n",
       "104     two\n",
       "105     two\n",
       "106     two\n",
       "107    four\n",
       "108    four\n",
       "109    four\n",
       "110    four\n",
       "111    four\n",
       "112    four\n",
       "113    four\n",
       "114    four\n",
       "115    four\n",
       "116    four\n",
       "117    four\n",
       "118     two\n",
       "119     two\n",
       "120    four\n",
       "121    four\n",
       "122    four\n",
       "123    four\n",
       "124     two\n",
       "125     two\n",
       "126     two\n",
       "127     two\n",
       "128     two\n",
       "129     two\n",
       "130    four\n",
       "131     two\n",
       "132     two\n",
       "133    four\n",
       "134     two\n",
       "135    four\n",
       "136     two\n",
       "137    four\n",
       "138     two\n",
       "139     two\n",
       "140     two\n",
       "141    four\n",
       "142    four\n",
       "143    four\n",
       "144    four\n",
       "145    four\n",
       "146    four\n",
       "147    four\n",
       "148    four\n",
       "149    four\n",
       "150     two\n",
       "151     two\n",
       "152    four\n",
       "153    four\n",
       "154    four\n",
       "155    four\n",
       "156    four\n",
       "157    four\n",
       "158    four\n",
       "159    four\n",
       "160    four\n",
       "161    four\n",
       "162    four\n",
       "163     two\n",
       "164     two\n",
       "165     two\n",
       "166     two\n",
       "167     two\n",
       "168     two\n",
       "169     two\n",
       "170     two\n",
       "171     two\n",
       "172     two\n",
       "173    four\n",
       "174    four\n",
       "175    four\n",
       "176    four\n",
       "177    four\n",
       "178     two\n",
       "179     two\n",
       "180    four\n",
       "181    four\n",
       "182     two\n",
       "183     two\n",
       "184    four\n",
       "185    four\n",
       "186    four\n",
       "187    four\n",
       "188    four\n",
       "189     two\n",
       "190     two\n",
       "191    four\n",
       "192    four\n",
       "193    four\n",
       "194    four\n",
       "195    four\n",
       "196    four\n",
       "197    four\n",
       "198    four\n",
       "199    four\n",
       "200    four\n",
       "201    four\n",
       "202    four\n",
       "203    four\n",
       "204    four\n",
       "Name: num-of-door, dtype: object"
      ]
     },
     "execution_count": 5,
     "metadata": {},
     "output_type": "execute_result"
    }
   ],
   "source": []
  },
  {
   "cell_type": "markdown",
   "metadata": {},
   "source": [
    "#### Question 3\n"
   ]
  },
  {
   "cell_type": "code",
   "execution_count": 3,
   "metadata": {},
   "outputs": [
    {
     "data": {
      "text/plain": [
       "{'whiskers': [<matplotlib.lines.Line2D at 0x7f922d371760>,\n",
       "  <matplotlib.lines.Line2D at 0x7f922d371a30>],\n",
       " 'caps': [<matplotlib.lines.Line2D at 0x7f922d371d00>,\n",
       "  <matplotlib.lines.Line2D at 0x7f922d371fd0>],\n",
       " 'boxes': [<matplotlib.lines.Line2D at 0x7f922d3715b0>],\n",
       " 'medians': [<matplotlib.lines.Line2D at 0x7f922d3872e0>],\n",
       " 'fliers': [<matplotlib.lines.Line2D at 0x7f922d3875b0>],\n",
       " 'means': []}"
      ]
     },
     "execution_count": 3,
     "metadata": {},
     "output_type": "execute_result"
    },
    {
     "data": {
      "image/png": "[encoded data removed]",
      "text/plain": [
       "<Figure size 1080x720 with 2 Axes>"
      ]
     },
     "metadata": {
      "needs_background": "light"
     },
     "output_type": "display_data"
    }
   ],
   "source": [
    "# graph of original data of engine size\n",
    "df_q3 = q3.copy()\n",
    "plt.figure(figsize=(15,10))\n",
    "plt.subplot(2,1,1)\n",
    "plt.hist(df_q3['engine-size'])\n",
    "plt.subplot(2,1,2)\n",
    "plt.boxplot(df_q3['engine-size'])"
   ]
  },
  {
   "cell_type": "code",
   "execution_count": 68,
   "metadata": {},
   "outputs": [
    {
     "data": {
      "text/plain": [
       "{'whiskers': [<matplotlib.lines.Line2D at 0x7f9439ce5130>,\n",
       "  <matplotlib.lines.Line2D at 0x7f9439ce5400>],\n",
       " 'caps': [<matplotlib.lines.Line2D at 0x7f9439ce56d0>,\n",
       "  <matplotlib.lines.Line2D at 0x7f9439ccec40>],\n",
       " 'boxes': [<matplotlib.lines.Line2D at 0x7f9439cd9e20>],\n",
       " 'medians': [<matplotlib.lines.Line2D at 0x7f9439ce5b50>],\n",
       " 'fliers': [<matplotlib.lines.Line2D at 0x7f9439ce5e20>],\n",
       " 'means': []}"
      ]
     },
     "execution_count": 68,
     "metadata": {},
     "output_type": "execute_result"
    },
    {
     "data": {
      "image/png": "[encoded data removed]",
      "text/plain": [
       "<Figure size 1080x720 with 2 Axes>"
      ]
     },
     "metadata": {
      "needs_background": "light"
     },
     "output_type": "display_data"
    }
   ],
   "source": [
    "from sklearn.preprocessing import MinMaxScaler\n",
    "scaler = MinMaxScaler()\n",
    "df_q3['engine-size'] = scaler.fit_transform(df_q3['engine-size'].to_numpy().reshape(-1,1))\n",
    "\n",
    "plt.figure(figsize=(15, 10))\n",
    "plt.subplot(2, 1, 1)\n",
    "plt.hist(df_q3['engine-size'])\n",
    "plt.subplot(2, 1, 2)\n",
    "plt.boxplot(df_q3['engine-size'])\n"
   ]
  },
  {
   "cell_type": "code",
   "execution_count": 78,
   "metadata": {},
   "outputs": [
    {
     "data": {
      "text/plain": [
       "{'whiskers': [<matplotlib.lines.Line2D at 0x7f94350e08e0>,\n",
       "  <matplotlib.lines.Line2D at 0x7f9435fe5160>],\n",
       " 'caps': [<matplotlib.lines.Line2D at 0x7f94350e0be0>,\n",
       "  <matplotlib.lines.Line2D at 0x7f94350e0c70>],\n",
       " 'boxes': [<matplotlib.lines.Line2D at 0x7f9433bf41c0>],\n",
       " 'medians': [<matplotlib.lines.Line2D at 0x7f94350e01f0>],\n",
       " 'fliers': [<matplotlib.lines.Line2D at 0x7f94350e03a0>],\n",
       " 'means': []}"
      ]
     },
     "execution_count": 78,
     "metadata": {},
     "output_type": "execute_result"
    },
    {
     "data": {
      "image/png": "[encoded data removed]",
      "text/plain": [
       "<Figure size 1080x720 with 2 Axes>"
      ]
     },
     "metadata": {
      "needs_background": "light"
     },
     "output_type": "display_data"
    }
   ],
   "source": [
    "# graph of original data of stroke\n",
    "\n",
    "\n",
    "df_q3.drop(index = df_q3[df_q3['stroke'] == '?'].index, inplace = True)\n",
    "df_q3['stroke'] = pd.to_numeric(df_q3['stroke'])\n",
    "plt.figure(figsize=(15, 10))\n",
    "plt.subplot(2, 1, 1)\n",
    "plt.hist(df_q3['stroke'])\n",
    "plt.subplot(2, 1, 2)\n",
    "plt.boxplot(df_q3['stroke'])"
   ]
  },
  {
   "cell_type": "code",
   "execution_count": 79,
   "metadata": {},
   "outputs": [
    {
     "data": {
      "text/plain": [
       "{'whiskers': [<matplotlib.lines.Line2D at 0x7f9436324c10>,\n",
       "  <matplotlib.lines.Line2D at 0x7f9436324ee0>],\n",
       " 'caps': [<matplotlib.lines.Line2D at 0x7f943633e0d0>,\n",
       "  <matplotlib.lines.Line2D at 0x7f943633e3a0>],\n",
       " 'boxes': [<matplotlib.lines.Line2D at 0x7f9436324940>],\n",
       " 'medians': [<matplotlib.lines.Line2D at 0x7f943633e670>],\n",
       " 'fliers': [<matplotlib.lines.Line2D at 0x7f943633e940>],\n",
       " 'means': []}"
      ]
     },
     "execution_count": 79,
     "metadata": {},
     "output_type": "execute_result"
    },
    {
     "data": {
      "image/png": "[encoded data removed]",
      "text/plain": [
       "<Figure size 1080x720 with 2 Axes>"
      ]
     },
     "metadata": {
      "needs_background": "light"
     },
     "output_type": "display_data"
    }
   ],
   "source": [
    "from sklearn.preprocessing import MinMaxScaler\n",
    "scaler = MinMaxScaler()\n",
    "df_q3['stroke'] = scaler.fit_transform(\n",
    "    df_q3['stroke'].to_numpy().reshape(-1, 1))\n",
    "\n",
    "plt.figure(figsize=(15, 10))\n",
    "plt.subplot(2, 1, 1)\n",
    "plt.hist(df_q3['stroke'])\n",
    "plt.subplot(2, 1, 2)\n",
    "plt.boxplot(df_q3['stroke'])\n"
   ]
  },
  {
   "cell_type": "markdown",
   "metadata": {},
   "source": [
    "##### Finding\n",
    "\n",
    "From the above graph, I see that range between max value and min value is shortened. This is will fit into machine models."
   ]
  },
  {
   "cell_type": "markdown",
   "metadata": {},
   "source": [
    "#### Question 4\n",
    "A:\n",
    "1. symboling is numeric continuous data.\n",
    "2. make is categorical nominal data.\n",
    "3. engine type is categorical ordinal data.\n",
    "\n",
    "B:\n",
    "\n",
    "I will use binarizer method for numeric data to set value that less than 0 to -1, else to 1. For those two categorical data I will label encoding method to transform data.\n"
   ]
  },
  {
   "cell_type": "code",
   "execution_count": null,
   "metadata": {},
   "outputs": [],
   "source": [
    "# use python code to transform the data\n",
    "\n",
    "from sklearn.preprocessing import Binarizer\n",
    "binarizer = Binarizer(threshold=0)\n",
    "binarizer_feature = binarizer.fit_transform(df_q3[['symboling']])\n",
    "binarizer_feature = pd.DataFrame(binarizer_feature)\n",
    "\n",
    "\n",
    "label_encoding = LabelEncoder()\n",
    "make = label_encoding.fit_transform(df_q3['make'])\n",
    "engine_type = label_encoding.fit_transform(df_q3['engine-type'])\n",
    "\n",
    "make = pd.DataFrame(make)\n",
    "engine_type = pd.DataFrame(engine_type)\n",
    "frames = [make,engine_type,binarizer_feature]\n",
    "\n",
    "\n",
    "\n"
   ]
  },
  {
   "cell_type": "markdown",
   "metadata": {},
   "source": [
    "#### Question 5"
   ]
  },
  {
   "cell_type": "code",
   "execution_count": 63,
   "metadata": {},
   "outputs": [
    {
     "ename": "ValueError",
     "evalue": "Input X contains NaN.\nPCA does not accept missing values encoded as NaN natively. For supervised learning, you might want to consider sklearn.ensemble.HistGradientBoostingClassifier and Regressor which accept missing values encoded as NaNs natively. Alternatively, it is possible to preprocess the data, for instance by using an imputer transformer in a pipeline or drop samples with missing values. See https://scikit-learn.org/stable/modules/impute.html You can find a list of all estimators that handle NaN values at the following page: https://scikit-learn.org/stable/modules/impute.html#estimators-that-handle-nan-values",
     "output_type": "error",
     "traceback": [
      "\u001b[0;31m---------------------------------------------------------------------------\u001b[0m",
      "\u001b[0;31mValueError\u001b[0m                                Traceback (most recent call last)",
      "\u001b[1;32m/Users/yz/Desktop/cs381-MatthewFried/quiz/Y_Zhu_project3_assn_.ipynb Cell 41'\u001b[0m in \u001b[0;36m<cell line: 27>\u001b[0;34m()\u001b[0m\n\u001b[1;32m     <a href='vscode-notebook-cell:/Users/yz/Desktop/cs381-MatthewFried/quiz/Y_Zhu_project3_assn_.ipynb#ch0000040?line=23'>24</a>\u001b[0m data_scaled \u001b[39m=\u001b[39m pd\u001b[39m.\u001b[39mDataFrame(preprocessing\u001b[39m.\u001b[39mscale(pca_test),columns \u001b[39m=\u001b[39m pca_test\u001b[39m.\u001b[39mcolumns)\n\u001b[1;32m     <a href='vscode-notebook-cell:/Users/yz/Desktop/cs381-MatthewFried/quiz/Y_Zhu_project3_assn_.ipynb#ch0000040?line=25'>26</a>\u001b[0m pca \u001b[39m=\u001b[39m PCA(n_components\u001b[39m=\u001b[39m \u001b[39mlen\u001b[39m(data_scaled\u001b[39m.\u001b[39mcolumns))\n\u001b[0;32m---> <a href='vscode-notebook-cell:/Users/yz/Desktop/cs381-MatthewFried/quiz/Y_Zhu_project3_assn_.ipynb#ch0000040?line=26'>27</a>\u001b[0m x_new \u001b[39m=\u001b[39m pca\u001b[39m.\u001b[39;49mfit_transform(data_scaled)\n\u001b[1;32m     <a href='vscode-notebook-cell:/Users/yz/Desktop/cs381-MatthewFried/quiz/Y_Zhu_project3_assn_.ipynb#ch0000040?line=27'>28</a>\u001b[0m x_new \u001b[39m=\u001b[39m pd\u001b[39m.\u001b[39mDataFrame(x_new)\n\u001b[1;32m     <a href='vscode-notebook-cell:/Users/yz/Desktop/cs381-MatthewFried/quiz/Y_Zhu_project3_assn_.ipynb#ch0000040?line=29'>30</a>\u001b[0m \u001b[39mprint\u001b[39m(x_new)\n",
      "File \u001b[0;32m/Library/Frameworks/Python.framework/Versions/3.9/lib/python3.9/site-packages/sklearn/decomposition/_pca.py:433\u001b[0m, in \u001b[0;36mPCA.fit_transform\u001b[0;34m(self, X, y)\u001b[0m\n\u001b[1;32m    411\u001b[0m \u001b[39mdef\u001b[39;00m \u001b[39mfit_transform\u001b[39m(\u001b[39mself\u001b[39m, X, y\u001b[39m=\u001b[39m\u001b[39mNone\u001b[39;00m):\n\u001b[1;32m    412\u001b[0m     \u001b[39m\"\"\"Fit the model with X and apply the dimensionality reduction on X.\u001b[39;00m\n\u001b[1;32m    413\u001b[0m \n\u001b[1;32m    414\u001b[0m \u001b[39m    Parameters\u001b[39;00m\n\u001b[0;32m   (...)\u001b[0m\n\u001b[1;32m    431\u001b[0m \u001b[39m    C-ordered array, use 'np.ascontiguousarray'.\u001b[39;00m\n\u001b[1;32m    432\u001b[0m \u001b[39m    \"\"\"\u001b[39;00m\n\u001b[0;32m--> 433\u001b[0m     U, S, Vt \u001b[39m=\u001b[39m \u001b[39mself\u001b[39;49m\u001b[39m.\u001b[39;49m_fit(X)\n\u001b[1;32m    434\u001b[0m     U \u001b[39m=\u001b[39m U[:, : \u001b[39mself\u001b[39m\u001b[39m.\u001b[39mn_components_]\n\u001b[1;32m    436\u001b[0m     \u001b[39mif\u001b[39;00m \u001b[39mself\u001b[39m\u001b[39m.\u001b[39mwhiten:\n\u001b[1;32m    437\u001b[0m         \u001b[39m# X_new = X * V / S * sqrt(n_samples) = U * sqrt(n_samples)\u001b[39;00m\n",
      "File \u001b[0;32m/Library/Frameworks/Python.framework/Versions/3.9/lib/python3.9/site-packages/sklearn/decomposition/_pca.py:456\u001b[0m, in \u001b[0;36mPCA._fit\u001b[0;34m(self, X)\u001b[0m\n\u001b[1;32m    450\u001b[0m \u001b[39mif\u001b[39;00m issparse(X):\n\u001b[1;32m    451\u001b[0m     \u001b[39mraise\u001b[39;00m \u001b[39mTypeError\u001b[39;00m(\n\u001b[1;32m    452\u001b[0m         \u001b[39m\"\u001b[39m\u001b[39mPCA does not support sparse input. See \u001b[39m\u001b[39m\"\u001b[39m\n\u001b[1;32m    453\u001b[0m         \u001b[39m\"\u001b[39m\u001b[39mTruncatedSVD for a possible alternative.\u001b[39m\u001b[39m\"\u001b[39m\n\u001b[1;32m    454\u001b[0m     )\n\u001b[0;32m--> 456\u001b[0m X \u001b[39m=\u001b[39m \u001b[39mself\u001b[39;49m\u001b[39m.\u001b[39;49m_validate_data(\n\u001b[1;32m    457\u001b[0m     X, dtype\u001b[39m=\u001b[39;49m[np\u001b[39m.\u001b[39;49mfloat64, np\u001b[39m.\u001b[39;49mfloat32], ensure_2d\u001b[39m=\u001b[39;49m\u001b[39mTrue\u001b[39;49;00m, copy\u001b[39m=\u001b[39;49m\u001b[39mself\u001b[39;49m\u001b[39m.\u001b[39;49mcopy\n\u001b[1;32m    458\u001b[0m )\n\u001b[1;32m    460\u001b[0m \u001b[39m# Handle n_components==None\u001b[39;00m\n\u001b[1;32m    461\u001b[0m \u001b[39mif\u001b[39;00m \u001b[39mself\u001b[39m\u001b[39m.\u001b[39mn_components \u001b[39mis\u001b[39;00m \u001b[39mNone\u001b[39;00m:\n",
      "File \u001b[0;32m/Library/Frameworks/Python.framework/Versions/3.9/lib/python3.9/site-packages/sklearn/base.py:577\u001b[0m, in \u001b[0;36mBaseEstimator._validate_data\u001b[0;34m(self, X, y, reset, validate_separately, **check_params)\u001b[0m\n\u001b[1;32m    575\u001b[0m     \u001b[39mraise\u001b[39;00m \u001b[39mValueError\u001b[39;00m(\u001b[39m\"\u001b[39m\u001b[39mValidation should be done on X, y or both.\u001b[39m\u001b[39m\"\u001b[39m)\n\u001b[1;32m    576\u001b[0m \u001b[39melif\u001b[39;00m \u001b[39mnot\u001b[39;00m no_val_X \u001b[39mand\u001b[39;00m no_val_y:\n\u001b[0;32m--> 577\u001b[0m     X \u001b[39m=\u001b[39m check_array(X, input_name\u001b[39m=\u001b[39;49m\u001b[39m\"\u001b[39;49m\u001b[39mX\u001b[39;49m\u001b[39m\"\u001b[39;49m, \u001b[39m*\u001b[39;49m\u001b[39m*\u001b[39;49mcheck_params)\n\u001b[1;32m    578\u001b[0m     out \u001b[39m=\u001b[39m X\n\u001b[1;32m    579\u001b[0m \u001b[39melif\u001b[39;00m no_val_X \u001b[39mand\u001b[39;00m \u001b[39mnot\u001b[39;00m no_val_y:\n",
      "File \u001b[0;32m/Library/Frameworks/Python.framework/Versions/3.9/lib/python3.9/site-packages/sklearn/utils/validation.py:899\u001b[0m, in \u001b[0;36mcheck_array\u001b[0;34m(array, accept_sparse, accept_large_sparse, dtype, order, copy, force_all_finite, ensure_2d, allow_nd, ensure_min_samples, ensure_min_features, estimator, input_name)\u001b[0m\n\u001b[1;32m    893\u001b[0m         \u001b[39mraise\u001b[39;00m \u001b[39mValueError\u001b[39;00m(\n\u001b[1;32m    894\u001b[0m             \u001b[39m\"\u001b[39m\u001b[39mFound array with dim \u001b[39m\u001b[39m%d\u001b[39;00m\u001b[39m. \u001b[39m\u001b[39m%s\u001b[39;00m\u001b[39m expected <= 2.\u001b[39m\u001b[39m\"\u001b[39m\n\u001b[1;32m    895\u001b[0m             \u001b[39m%\u001b[39m (array\u001b[39m.\u001b[39mndim, estimator_name)\n\u001b[1;32m    896\u001b[0m         )\n\u001b[1;32m    898\u001b[0m     \u001b[39mif\u001b[39;00m force_all_finite:\n\u001b[0;32m--> 899\u001b[0m         _assert_all_finite(\n\u001b[1;32m    900\u001b[0m             array,\n\u001b[1;32m    901\u001b[0m             input_name\u001b[39m=\u001b[39;49minput_name,\n\u001b[1;32m    902\u001b[0m             estimator_name\u001b[39m=\u001b[39;49mestimator_name,\n\u001b[1;32m    903\u001b[0m             allow_nan\u001b[39m=\u001b[39;49mforce_all_finite \u001b[39m==\u001b[39;49m \u001b[39m\"\u001b[39;49m\u001b[39mallow-nan\u001b[39;49m\u001b[39m\"\u001b[39;49m,\n\u001b[1;32m    904\u001b[0m         )\n\u001b[1;32m    906\u001b[0m \u001b[39mif\u001b[39;00m ensure_min_samples \u001b[39m>\u001b[39m \u001b[39m0\u001b[39m:\n\u001b[1;32m    907\u001b[0m     n_samples \u001b[39m=\u001b[39m _num_samples(array)\n",
      "File \u001b[0;32m/Library/Frameworks/Python.framework/Versions/3.9/lib/python3.9/site-packages/sklearn/utils/validation.py:146\u001b[0m, in \u001b[0;36m_assert_all_finite\u001b[0;34m(X, allow_nan, msg_dtype, estimator_name, input_name)\u001b[0m\n\u001b[1;32m    124\u001b[0m         \u001b[39mif\u001b[39;00m (\n\u001b[1;32m    125\u001b[0m             \u001b[39mnot\u001b[39;00m allow_nan\n\u001b[1;32m    126\u001b[0m             \u001b[39mand\u001b[39;00m estimator_name\n\u001b[0;32m   (...)\u001b[0m\n\u001b[1;32m    130\u001b[0m             \u001b[39m# Improve the error message on how to handle missing values in\u001b[39;00m\n\u001b[1;32m    131\u001b[0m             \u001b[39m# scikit-learn.\u001b[39;00m\n\u001b[1;32m    132\u001b[0m             msg_err \u001b[39m+\u001b[39m\u001b[39m=\u001b[39m (\n\u001b[1;32m    133\u001b[0m                 \u001b[39mf\u001b[39m\u001b[39m\"\u001b[39m\u001b[39m\\n\u001b[39;00m\u001b[39m{\u001b[39;00mestimator_name\u001b[39m}\u001b[39;00m\u001b[39m does not accept missing values\u001b[39m\u001b[39m\"\u001b[39m\n\u001b[1;32m    134\u001b[0m                 \u001b[39m\"\u001b[39m\u001b[39m encoded as NaN natively. For supervised learning, you might want\u001b[39m\u001b[39m\"\u001b[39m\n\u001b[0;32m   (...)\u001b[0m\n\u001b[1;32m    144\u001b[0m                 \u001b[39m\"\u001b[39m\u001b[39m#estimators-that-handle-nan-values\u001b[39m\u001b[39m\"\u001b[39m\n\u001b[1;32m    145\u001b[0m             )\n\u001b[0;32m--> 146\u001b[0m         \u001b[39mraise\u001b[39;00m \u001b[39mValueError\u001b[39;00m(msg_err)\n\u001b[1;32m    148\u001b[0m \u001b[39m# for object dtype data, we only check for NaNs (GH-13254)\u001b[39;00m\n\u001b[1;32m    149\u001b[0m \u001b[39melif\u001b[39;00m X\u001b[39m.\u001b[39mdtype \u001b[39m==\u001b[39m np\u001b[39m.\u001b[39mdtype(\u001b[39m\"\u001b[39m\u001b[39mobject\u001b[39m\u001b[39m\"\u001b[39m) \u001b[39mand\u001b[39;00m \u001b[39mnot\u001b[39;00m allow_nan:\n",
      "\u001b[0;31mValueError\u001b[0m: Input X contains NaN.\nPCA does not accept missing values encoded as NaN natively. For supervised learning, you might want to consider sklearn.ensemble.HistGradientBoostingClassifier and Regressor which accept missing values encoded as NaNs natively. Alternatively, it is possible to preprocess the data, for instance by using an imputer transformer in a pipeline or drop samples with missing values. See https://scikit-learn.org/stable/modules/impute.html You can find a list of all estimators that handle NaN values at the following page: https://scikit-learn.org/stable/modules/impute.html#estimators-that-handle-nan-values"
     ]
    }
   ],
   "source": [
    "le = LabelEncoder()\n",
    "\n",
    "df['make'] = le.fit_transform(df['make'])\n",
    "df['body-style'] = le.fit_transform(df['body-style'])\n",
    "df['drive-wheels'] = le.fit_transform(df['drive-wheels'])\n",
    "df['engine-type'] = le.fit_transform(df['engine-type'])\n",
    "df['num-of-cylinders'] = le.fit_transform(df['num-of-cylinders'])\n",
    "df['fuel-system'] = le.fit_transform(df['fuel-system'])\n",
    "df['peak-rpm'] = le.fit_transform(df['peak-rpm'])\n",
    "df['horsepower'] = le.fit_transform(df['horsepower'])\n",
    "df['fuel-type'] = le.fit_transform(df['fuel-type'])\n",
    "df['aspiration'] = le.fit_transform(df['aspiration'])\n",
    "df['engine-location'] = le.fit_transform(df['engine-location'])\n",
    "df['stroke'] = le.fit_transform(df['stroke'])\n",
    "df['bore'] = le.fit_transform(df['bore'])\n",
    "df['num-of-door'] = le.fit_transform(df['num-of-door'])\n",
    "df['normalized-losses'].fillna(df['normalized-losses'].median(),inplace = True)\n",
    "df['normalized-losses']\n",
    "\n",
    "pca_test = df.drop(['wheel-base', 'length', 'width',\n",
    "                   'height', 'curb-weight', 'engine-size', 'compression-ratio', 'horsepower', 'peak-rpm', 'city-mpg'],axis = 1)\n",
    "\n",
    "\n",
    "data_scaled = pd.DataFrame(preprocessing.scale(pca_test),columns = pca_test.columns)\n",
    "\n",
    "pca = PCA(n_components= len(data_scaled.columns))\n",
    "x_new = pca.fit_transform(data_scaled)\n",
    "x_new = pd.DataFrame(x_new)\n",
    "\n",
    "print(x_new)\n",
    "\n"
   ]
  }
 ],
 "metadata": {
  "kernelspec": {
   "display_name": "Python 3.9.12 64-bit",
   "language": "python",
   "name": "python3"
  },
  "language_info": {
   "codemirror_mode": {
    "name": "ipython",
    "version": 3
   },
   "file_extension": ".py",
   "mimetype": "text/x-python",
   "name": "python",
   "nbconvert_exporter": "python",
   "pygments_lexer": "ipython3",
   "version": "3.9.12"
  },
  "orig_nbformat": 4,
  "vscode": {
   "interpreter": {
    "hash": "aee8b7b246df8f9039afb4144a1f6fd8d2ca17a180786b69acc140d282b71a49"
   }
  }
 },
 "nbformat": 4,
 "nbformat_minor": 2
}
