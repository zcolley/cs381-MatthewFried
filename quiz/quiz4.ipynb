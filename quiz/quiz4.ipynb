{
 "cells": [
  {
   "cell_type": "markdown",
   "metadata": {},
   "source": [
    "# The Boston HMDA Data Set\n",
    "\n",
    "#### Features\n",
    "* dir -- debt payment to total income ratio\n",
    "* hir -- house expense to income ratio\n",
    "* lvr -- ratio of size of loan to assessed value of property\n",
    "* ccs -- consumer credit score from 1 to 6 (a low value being a good score)\n",
    "* mcs -- mortgage credit score from 1 to 4 (a low value being a good score)\n",
    "* pbcr -- public bad credit score\n",
    "* dmi -- denied mortagage insurance\n",
    "* self -- self employed\n",
    "* single -- is the applicant single\n",
    "* uria -- 1989 Massachusetts unemployment rate in the applicant's industry\n",
    "* condominium -- is unit a condominium\n",
    "* black -- is the applicant black \n",
    "* deny -- mortgage application denied"
   ]
  },
  {
   "cell_type": "code",
   "execution_count": 2,
   "metadata": {},
   "outputs": [
    {
     "data": {
      "text/html": [
       "<div>\n",
       "<style scoped>\n",
       "    .dataframe tbody tr th:only-of-type {\n",
       "        vertical-align: middle;\n",
       "    }\n",
       "\n",
       "    .dataframe tbody tr th {\n",
       "        vertical-align: top;\n",
       "    }\n",
       "\n",
       "    .dataframe thead th {\n",
       "        text-align: right;\n",
       "    }\n",
       "</style>\n",
       "<table border=\"1\" class=\"dataframe\">\n",
       "  <thead>\n",
       "    <tr style=\"text-align: right;\">\n",
       "      <th></th>\n",
       "      <th>dir</th>\n",
       "      <th>hir</th>\n",
       "      <th>lvr</th>\n",
       "      <th>ccs</th>\n",
       "      <th>mcs</th>\n",
       "      <th>pbcr</th>\n",
       "      <th>dmi</th>\n",
       "      <th>self</th>\n",
       "      <th>single</th>\n",
       "      <th>uria</th>\n",
       "      <th>comdominiom</th>\n",
       "      <th>black</th>\n",
       "      <th>deny</th>\n",
       "    </tr>\n",
       "  </thead>\n",
       "  <tbody>\n",
       "    <tr>\n",
       "      <th>0</th>\n",
       "      <td>0.221</td>\n",
       "      <td>0.221</td>\n",
       "      <td>0.800000</td>\n",
       "      <td>5.0</td>\n",
       "      <td>2.0</td>\n",
       "      <td>no</td>\n",
       "      <td>no</td>\n",
       "      <td>no</td>\n",
       "      <td>no</td>\n",
       "      <td>3.9</td>\n",
       "      <td>0</td>\n",
       "      <td>no</td>\n",
       "      <td>no</td>\n",
       "    </tr>\n",
       "    <tr>\n",
       "      <th>1</th>\n",
       "      <td>0.265</td>\n",
       "      <td>0.265</td>\n",
       "      <td>0.921875</td>\n",
       "      <td>2.0</td>\n",
       "      <td>2.0</td>\n",
       "      <td>no</td>\n",
       "      <td>no</td>\n",
       "      <td>no</td>\n",
       "      <td>yes</td>\n",
       "      <td>3.2</td>\n",
       "      <td>0</td>\n",
       "      <td>no</td>\n",
       "      <td>no</td>\n",
       "    </tr>\n",
       "    <tr>\n",
       "      <th>2</th>\n",
       "      <td>0.372</td>\n",
       "      <td>0.248</td>\n",
       "      <td>0.920398</td>\n",
       "      <td>1.0</td>\n",
       "      <td>2.0</td>\n",
       "      <td>no</td>\n",
       "      <td>no</td>\n",
       "      <td>no</td>\n",
       "      <td>no</td>\n",
       "      <td>3.2</td>\n",
       "      <td>0</td>\n",
       "      <td>no</td>\n",
       "      <td>no</td>\n",
       "    </tr>\n",
       "    <tr>\n",
       "      <th>3</th>\n",
       "      <td>0.320</td>\n",
       "      <td>0.250</td>\n",
       "      <td>0.860465</td>\n",
       "      <td>1.0</td>\n",
       "      <td>2.0</td>\n",
       "      <td>no</td>\n",
       "      <td>no</td>\n",
       "      <td>no</td>\n",
       "      <td>no</td>\n",
       "      <td>4.3</td>\n",
       "      <td>0</td>\n",
       "      <td>no</td>\n",
       "      <td>no</td>\n",
       "    </tr>\n",
       "    <tr>\n",
       "      <th>4</th>\n",
       "      <td>0.360</td>\n",
       "      <td>0.350</td>\n",
       "      <td>0.600000</td>\n",
       "      <td>1.0</td>\n",
       "      <td>1.0</td>\n",
       "      <td>no</td>\n",
       "      <td>no</td>\n",
       "      <td>no</td>\n",
       "      <td>no</td>\n",
       "      <td>3.2</td>\n",
       "      <td>0</td>\n",
       "      <td>no</td>\n",
       "      <td>no</td>\n",
       "    </tr>\n",
       "  </tbody>\n",
       "</table>\n",
       "</div>"
      ],
      "text/plain": [
       "     dir    hir       lvr  ccs  mcs pbcr dmi self single  uria  comdominiom  \\\n",
       "0  0.221  0.221  0.800000  5.0  2.0   no  no   no     no   3.9            0   \n",
       "1  0.265  0.265  0.921875  2.0  2.0   no  no   no    yes   3.2            0   \n",
       "2  0.372  0.248  0.920398  1.0  2.0   no  no   no     no   3.2            0   \n",
       "3  0.320  0.250  0.860465  1.0  2.0   no  no   no     no   4.3            0   \n",
       "4  0.360  0.350  0.600000  1.0  1.0   no  no   no     no   3.2            0   \n",
       "\n",
       "  black deny  \n",
       "0    no   no  \n",
       "1    no   no  \n",
       "2    no   no  \n",
       "3    no   no  \n",
       "4    no   no  "
      ]
     },
     "execution_count": 2,
     "metadata": {},
     "output_type": "execute_result"
    }
   ],
   "source": [
    "import pandas as pd\n",
    "import numpy as np\n",
    "import matplotlib.pyplot as plt\n",
    "import seaborn as sns\n",
    "df = pd.read_csv(\n",
    "    'https://raw.githubusercontent.com/zcolley/cs381-MatthewFried/main/quiz/Hdma.csv')\n",
    "\n",
    "df_cp = df.copy()\n",
    "df.head()"
   ]
  },
  {
   "cell_type": "markdown",
   "metadata": {},
   "source": [
    "## EDA\n"
   ]
  },
  {
   "cell_type": "code",
   "execution_count": 3,
   "metadata": {},
   "outputs": [
    {
     "data": {
      "text/html": [
       "<div>\n",
       "<style scoped>\n",
       "    .dataframe tbody tr th:only-of-type {\n",
       "        vertical-align: middle;\n",
       "    }\n",
       "\n",
       "    .dataframe tbody tr th {\n",
       "        vertical-align: top;\n",
       "    }\n",
       "\n",
       "    .dataframe thead th {\n",
       "        text-align: right;\n",
       "    }\n",
       "</style>\n",
       "<table border=\"1\" class=\"dataframe\">\n",
       "  <thead>\n",
       "    <tr style=\"text-align: right;\">\n",
       "      <th></th>\n",
       "      <th>dir</th>\n",
       "      <th>hir</th>\n",
       "      <th>lvr</th>\n",
       "      <th>ccs</th>\n",
       "      <th>mcs</th>\n",
       "      <th>uria</th>\n",
       "      <th>comdominiom</th>\n",
       "    </tr>\n",
       "  </thead>\n",
       "  <tbody>\n",
       "    <tr>\n",
       "      <th>count</th>\n",
       "      <td>2381.000000</td>\n",
       "      <td>2381.000000</td>\n",
       "      <td>2381.000000</td>\n",
       "      <td>2381.000000</td>\n",
       "      <td>2381.000000</td>\n",
       "      <td>2381.000000</td>\n",
       "      <td>2381.000000</td>\n",
       "    </tr>\n",
       "    <tr>\n",
       "      <th>mean</th>\n",
       "      <td>0.330814</td>\n",
       "      <td>0.255346</td>\n",
       "      <td>0.737760</td>\n",
       "      <td>2.116387</td>\n",
       "      <td>1.721008</td>\n",
       "      <td>3.774496</td>\n",
       "      <td>0.288114</td>\n",
       "    </tr>\n",
       "    <tr>\n",
       "      <th>std</th>\n",
       "      <td>0.107235</td>\n",
       "      <td>0.096635</td>\n",
       "      <td>0.178715</td>\n",
       "      <td>1.666370</td>\n",
       "      <td>0.537169</td>\n",
       "      <td>2.026636</td>\n",
       "      <td>0.452980</td>\n",
       "    </tr>\n",
       "    <tr>\n",
       "      <th>min</th>\n",
       "      <td>0.000000</td>\n",
       "      <td>0.000000</td>\n",
       "      <td>0.020000</td>\n",
       "      <td>1.000000</td>\n",
       "      <td>1.000000</td>\n",
       "      <td>1.800000</td>\n",
       "      <td>0.000000</td>\n",
       "    </tr>\n",
       "    <tr>\n",
       "      <th>25%</th>\n",
       "      <td>0.280000</td>\n",
       "      <td>0.214000</td>\n",
       "      <td>0.652850</td>\n",
       "      <td>1.000000</td>\n",
       "      <td>1.000000</td>\n",
       "      <td>3.100000</td>\n",
       "      <td>0.000000</td>\n",
       "    </tr>\n",
       "    <tr>\n",
       "      <th>50%</th>\n",
       "      <td>0.330000</td>\n",
       "      <td>0.260000</td>\n",
       "      <td>0.779412</td>\n",
       "      <td>1.000000</td>\n",
       "      <td>2.000000</td>\n",
       "      <td>3.200000</td>\n",
       "      <td>0.000000</td>\n",
       "    </tr>\n",
       "    <tr>\n",
       "      <th>75%</th>\n",
       "      <td>0.370000</td>\n",
       "      <td>0.298800</td>\n",
       "      <td>0.868421</td>\n",
       "      <td>2.000000</td>\n",
       "      <td>2.000000</td>\n",
       "      <td>3.900000</td>\n",
       "      <td>1.000000</td>\n",
       "    </tr>\n",
       "    <tr>\n",
       "      <th>max</th>\n",
       "      <td>3.000000</td>\n",
       "      <td>3.000000</td>\n",
       "      <td>1.950000</td>\n",
       "      <td>6.000000</td>\n",
       "      <td>4.000000</td>\n",
       "      <td>10.600000</td>\n",
       "      <td>1.000000</td>\n",
       "    </tr>\n",
       "  </tbody>\n",
       "</table>\n",
       "</div>"
      ],
      "text/plain": [
       "               dir          hir          lvr          ccs          mcs  \\\n",
       "count  2381.000000  2381.000000  2381.000000  2381.000000  2381.000000   \n",
       "mean      0.330814     0.255346     0.737760     2.116387     1.721008   \n",
       "std       0.107235     0.096635     0.178715     1.666370     0.537169   \n",
       "min       0.000000     0.000000     0.020000     1.000000     1.000000   \n",
       "25%       0.280000     0.214000     0.652850     1.000000     1.000000   \n",
       "50%       0.330000     0.260000     0.779412     1.000000     2.000000   \n",
       "75%       0.370000     0.298800     0.868421     2.000000     2.000000   \n",
       "max       3.000000     3.000000     1.950000     6.000000     4.000000   \n",
       "\n",
       "              uria  comdominiom  \n",
       "count  2381.000000  2381.000000  \n",
       "mean      3.774496     0.288114  \n",
       "std       2.026636     0.452980  \n",
       "min       1.800000     0.000000  \n",
       "25%       3.100000     0.000000  \n",
       "50%       3.200000     0.000000  \n",
       "75%       3.900000     1.000000  \n",
       "max      10.600000     1.000000  "
      ]
     },
     "execution_count": 3,
     "metadata": {},
     "output_type": "execute_result"
    }
   ],
   "source": [
    "df.describe()"
   ]
  },
  {
   "cell_type": "markdown",
   "metadata": {},
   "source": [
    "From the above chart, It shows there are 7 numeric data. It is unclear that condominium value with low value 0 and max value 1"
   ]
  },
  {
   "cell_type": "code",
   "execution_count": 4,
   "metadata": {},
   "outputs": [
    {
     "data": {
      "text/plain": [
       "dir            float64\n",
       "hir            float64\n",
       "lvr            float64\n",
       "ccs            float64\n",
       "mcs            float64\n",
       "pbcr            object\n",
       "dmi             object\n",
       "self            object\n",
       "single          object\n",
       "uria           float64\n",
       "comdominiom      int64\n",
       "black           object\n",
       "deny            object\n",
       "dtype: object"
      ]
     },
     "execution_count": 4,
     "metadata": {},
     "output_type": "execute_result"
    }
   ],
   "source": [
    "# to see type of each feature\n",
    "df.dtypes\n"
   ]
  },
  {
   "cell_type": "markdown",
   "metadata": {},
   "source": [
    "clealy it shows that there 7 numeric data and 6 categorical data"
   ]
  },
  {
   "cell_type": "code",
   "execution_count": 5,
   "metadata": {},
   "outputs": [
    {
     "data": {
      "text/plain": [
       "dir            0\n",
       "hir            0\n",
       "lvr            0\n",
       "ccs            0\n",
       "mcs            0\n",
       "pbcr           1\n",
       "dmi            0\n",
       "self           1\n",
       "single         0\n",
       "uria           0\n",
       "comdominiom    0\n",
       "black          0\n",
       "deny           0\n",
       "dtype: int64"
      ]
     },
     "execution_count": 5,
     "metadata": {},
     "output_type": "execute_result"
    }
   ],
   "source": [
    "# find null value\n",
    "df.isnull().sum()\n"
   ]
  },
  {
   "cell_type": "markdown",
   "metadata": {},
   "source": [
    "It shows there is a null value in pbcr column and self column"
   ]
  },
  {
   "cell_type": "code",
   "execution_count": 6,
   "metadata": {},
   "outputs": [
    {
     "name": "stdout",
     "output_type": "stream",
     "text": [
      "column name: pbcr --- ['no' 'yes' nan]\n",
      "column name: dmi --- ['no' 'yes']\n",
      "column name: self --- ['no' 'yes' nan]\n",
      "column name: single --- ['no' 'yes']\n",
      "column name: black --- ['no' 'yes']\n",
      "column name: deny --- ['no' 'yes']\n"
     ]
    }
   ],
   "source": [
    "# check unique value in categorical column\n",
    "columns = ['pbcr','dmi','self','single','black','deny']\n",
    "\n",
    "for val in columns:\n",
    "    print(f'column name: {val} --- {df[val].unique()}')"
   ]
  },
  {
   "cell_type": "markdown",
   "metadata": {},
   "source": [
    "There is no other value other than no or yes. But there were some missing nan."
   ]
  },
  {
   "cell_type": "code",
   "execution_count": 7,
   "metadata": {},
   "outputs": [
    {
     "data": {
      "text/plain": [
       "<AxesSubplot:title={'center':'Lvr'}>"
      ]
     },
     "execution_count": 7,
     "metadata": {},
     "output_type": "execute_result"
    },
    {
     "data": {
      "image/png": "[encoded data removed]",
      "text/plain": [
       "<Figure size 1080x720 with 3 Axes>"
      ]
     },
     "metadata": {
      "needs_background": "light"
     },
     "output_type": "display_data"
    }
   ],
   "source": [
    "# to see most frequent value in dir, hir, and lvr.\n",
    "plt.figure(figsize=(15,10))\n",
    "plt.subplot(3,1,1)\n",
    "df['dir'].value_counts().plot.line(title = 'Dir')\n",
    "plt.subplot(3,1,2)\n",
    "df['hir'].value_counts().plot.line(title='Hir')\n",
    "plt.subplot(3,1,3)\n",
    "df['lvr'].value_counts().plot.line(title='Lvr')\n"
   ]
  },
  {
   "cell_type": "markdown",
   "metadata": {},
   "source": [
    "1. for dir ratio, most of them are in 0 and 0.5 range.\n",
    "2. for hir ratio, most of them are in 0 and 0.5 range.\n",
    "3. for lvr ratio, most of them are in 0 and 1 range."
   ]
  },
  {
   "cell_type": "code",
   "execution_count": 8,
   "metadata": {},
   "outputs": [
    {
     "data": {
      "text/plain": [
       "array([2.21000004e-01, 2.65000000e-01, 2.47999992e-01, 2.50000000e-01,\n",
       "       3.50000000e-01, 1.70000000e-01, 2.90000000e-01, 2.20000000e-01,\n",
       "       2.40000000e-01, 2.70000000e-01, 3.00000000e-01, 3.40000000e-01,\n",
       "       1.50000000e-01, 2.80000000e-01, 3.10000000e-01, 3.20000000e-01,\n",
       "       3.30000000e-01, 1.30000000e-01, 2.10000000e-01, 2.00000000e-01,\n",
       "       2.60000000e-01, 1.00000000e-01, 1.90000000e-01, 8.00000000e-02,\n",
       "       2.81000004e-01, 2.72000008e-01, 3.22000008e-01, 2.77999992e-01,\n",
       "       2.51000004e-01, 2.07999992e-01, 2.46000004e-01, 3.13999996e-01,\n",
       "       2.88999996e-01, 2.25000000e-01, 1.93999996e-01, 8.19999980e-02,\n",
       "       2.85000000e-01, 2.43999996e-01, 2.12999992e-01, 1.80000000e-01,\n",
       "       2.56000004e-01, 2.30000000e-01, 1.01999998e-01, 3.90000000e-01,\n",
       "       2.26000004e-01, 2.57999992e-01, 2.17999992e-01, 2.15000000e-01,\n",
       "       3.08999996e-01, 1.41999998e-01, 2.77000008e-01, 2.61000004e-01,\n",
       "       3.22999992e-01, 3.57999992e-01, 3.06000004e-01, 3.37000008e-01,\n",
       "       1.98999996e-01, 3.17999992e-01, 2.57000008e-01, 2.42000008e-01,\n",
       "       3.15000000e-01, 3.11000004e-01, 1.60000000e-01, 3.27999992e-01,\n",
       "       2.89400005e-01, 2.52999992e-01, 2.71000004e-01, 3.33800011e-01,\n",
       "       2.08999996e-01, 2.30799999e-01, 3.30900002e-01, 2.55000000e-01,\n",
       "       2.87000008e-01, 2.38999996e-01, 2.92000008e-01, 2.72999992e-01,\n",
       "       2.45000000e-01, 3.18999996e-01, 2.12500000e-01, 1.97000008e-01,\n",
       "       4.05999985e-01, 3.70000000e-01, 3.60900002e-01, 2.35000000e-01,\n",
       "       1.15000000e-01, 2.58999996e-01, 2.68999996e-01, 2.79599991e-01,\n",
       "       2.19400005e-01, 2.77199993e-01, 3.03799992e-01, 2.09099998e-01,\n",
       "       2.86000004e-01, 3.00499992e-01, 3.21399994e-01, 2.57700005e-01,\n",
       "       2.65200005e-01, 2.11000004e-01, 2.52700005e-01, 2.51200008e-01,\n",
       "       2.91800003e-01, 1.88899994e-01, 2.96000004e-01, 2.62700005e-01,\n",
       "       2.78799992e-01, 2.54400005e-01, 2.89899998e-01, 1.21800003e-01,\n",
       "       1.81800003e-01, 2.75200005e-01, 2.84599991e-01, 1.10000000e-01,\n",
       "       4.00000000e-02, 7.00000000e-02, 1.00000000e-02, 3.60000000e-01,\n",
       "       1.99799995e-01, 1.67500000e-01, 2.69699993e-01, 3.24599991e-01,\n",
       "       8.50000000e-04, 1.20000000e-01, 3.01499996e-01, 2.25599995e-01,\n",
       "       2.82000008e-01, 2.57900009e-01, 2.03299999e-01, 2.67700005e-01,\n",
       "       2.58500004e-01, 1.78199997e-01, 2.80200005e-01, 2.02000008e-01,\n",
       "       5.40000000e-01, 4.30000000e-01, 5.00000000e-02, 4.70000000e-01,\n",
       "       2.07000008e-01, 3.32299995e-01, 1.97999992e-01, 2.87600002e-01,\n",
       "       2.63400002e-01, 1.76200008e-01, 1.72199993e-01, 3.12000008e-01,\n",
       "       2.37999992e-01, 1.80900002e-01, 2.42999992e-01, 2.28500004e-01,\n",
       "       3.25999985e-01, 3.88600006e-01, 2.25400009e-01, 4.40000000e-01,\n",
       "       2.62000008e-01, 3.30999985e-01, 2.72900009e-01, 5.40000010e-02,\n",
       "       2.31000004e-01, 2.87999992e-01, 1.82999992e-01, 2.02999992e-01,\n",
       "       3.45999985e-01, 2.27999992e-01, 3.03999996e-01, 3.45000000e-01,\n",
       "       6.98999980e-02, 3.40999985e-01, 2.78999996e-01, 2.38199997e-01,\n",
       "       3.62000008e-01, 2.61299992e-01, 1.77000008e-01, 5.35999985e-01,\n",
       "       3.29000015e-01, 1.94699993e-01, 4.75000000e-01, 1.68999996e-01,\n",
       "       1.75000000e-01, 9.69999980e-02, 2.73999996e-01, 2.76000004e-01,\n",
       "       8.80000020e-02, 2.82999992e-01, 5.30000020e-02, 3.75000000e-01,\n",
       "       4.47000008e-01, 2.50599995e-01, 2.83999996e-01, 3.16000004e-01,\n",
       "       2.98999996e-01, 1.67999992e-01, 1.66000004e-01, 9.04000000e-02,\n",
       "       2.65799999e-01, 2.47900009e-01, 1.93400002e-01, 2.38500004e-01,\n",
       "       2.27500000e-01, 6.00000000e-02, 1.72500000e-01, 2.56900005e-01,\n",
       "       2.93299999e-01, 2.10900002e-01, 2.09500008e-01, 1.58999996e-01,\n",
       "       3.71500015e-01, 3.15799999e-01, 2.08899994e-01, 2.64899998e-01,\n",
       "       6.60999985e-01, 2.64300003e-01, 2.62999992e-01, 2.55599995e-01,\n",
       "       2.34300003e-01, 2.41800003e-01, 2.75499992e-01, 2.07199993e-01,\n",
       "       3.28800011e-01, 2.96700001e-01, 3.93300018e-01, 3.18899994e-01,\n",
       "       2.34500008e-01, 2.52000008e-01, 2.20900002e-01, 3.55299988e-01,\n",
       "       3.67999992e-01, 9.64000030e-02, 3.22799988e-01, 2.80499992e-01,\n",
       "       3.20800018e-01, 2.65100002e-01, 2.14500008e-01, 1.41199999e-01,\n",
       "       4.63199997e-01, 1.23999996e-01, 2.05000000e-01, 1.45000000e-01,\n",
       "       9.00000000e-02, 7.10000000e-01, 5.20000000e-01, 1.55000000e-01,\n",
       "       1.33000002e-01, 7.40000000e-01, 1.62000008e-01, 2.06000004e-01,\n",
       "       2.27000008e-01, 2.22000008e-01, 3.44000015e-01, 2.63999996e-01,\n",
       "       1.78999996e-01, 2.00000000e-02, 2.44699993e-01, 2.13999996e-01,\n",
       "       7.40000010e-02, 2.97000008e-01, 1.87999992e-01, 3.01000004e-01,\n",
       "       2.22999992e-01, 2.67000008e-01, 3.11299992e-01, 2.32000008e-01,\n",
       "       2.76399994e-01, 1.25000000e-01, 2.27800007e-01, 0.00000000e+00,\n",
       "       3.45800018e-01, 2.39699993e-01, 2.71200008e-01, 5.80000000e-01,\n",
       "       4.10000000e-01, 5.10000000e-01, 2.37000008e-01, 4.90000000e-01,\n",
       "       4.00000000e-01, 1.56999998e-01, 3.02999992e-01, 1.72999992e-01,\n",
       "       3.17199993e-01, 3.42000008e-01, 2.53999996e-01, 3.17500000e-01,\n",
       "       1.71000004e-01, 3.00799999e-01, 3.07500000e-01, 3.12999992e-01,\n",
       "       2.12000008e-01, 2.16900005e-01, 3.70999985e-01, 1.98899994e-01,\n",
       "       2.66000004e-01, 3.11599998e-01, 2.95000000e-01, 1.45100002e-01,\n",
       "       2.17000008e-01, 3.02299995e-01, 3.07099991e-01, 2.41000004e-01,\n",
       "       1.67000008e-01, 2.51399994e-01, 2.67999992e-01, 2.36000004e-01,\n",
       "       4.02000008e-01, 1.88999996e-01, 2.48600006e-01, 1.31000004e-01,\n",
       "       3.15499992e-01, 2.75000000e-01, 6.19999980e-02, 1.40000000e-01,\n",
       "       4.50000000e-01, 4.60000000e-01, 4.20000000e-01, 7.20000000e-01,\n",
       "       3.80000000e-01, 1.48000002e-01, 3.35999985e-01, 1.96000004e-01,\n",
       "       3.00000000e+00, 2.93999996e-01, 1.36999998e-01, 1.23299999e-01,\n",
       "       3.27000008e-01, 3.77999992e-01, 3.07999992e-01, 1.63999996e-01,\n",
       "       1.85000000e-01, 2.03999996e-01, 1.46000004e-01, 7.30000000e-01,\n",
       "       4.80000000e-01, 2.92999992e-01, 2.52199993e-01, 1.89099998e-01,\n",
       "       2.14300003e-01, 3.21899986e-01, 2.91399994e-01, 2.48999996e-01,\n",
       "       4.26100006e-01, 8.30000020e-02, 2.97999992e-01, 2.69899998e-01,\n",
       "       2.58299999e-01, 2.03899994e-01, 2.80000000e-02, 5.00000000e-01,\n",
       "       6.60000000e-01, 1.10000000e+00, 5.90000000e-01, 2.29300003e-01,\n",
       "       2.33999996e-01, 5.80000020e-02, 2.50200005e-01, 3.07000008e-01,\n",
       "       1.18999996e-01, 3.02399998e-01, 3.15100002e-01, 2.67900009e-01,\n",
       "       3.05000000e-01, 2.47000008e-01, 2.71399994e-01, 2.19300003e-01,\n",
       "       2.71299992e-01, 2.88299999e-01, 3.34000015e-01, 3.07199993e-01,\n",
       "       9.01000020e-02, 3.01900005e-01, 3.77000008e-01, 3.06499996e-01,\n",
       "       2.74200001e-01, 2.84500008e-01, 1.92000008e-01, 1.51000004e-01,\n",
       "       2.43299999e-01, 2.91000004e-01, 2.75400009e-01, 2.75699997e-01,\n",
       "       2.77500000e-01, 2.83799992e-01, 2.79699993e-01, 1.93099995e-01,\n",
       "       1.86000004e-01, 1.28000002e-01, 2.68400002e-01, 3.08799992e-01,\n",
       "       1.53000002e-01, 3.80999985e-01, 3.12399998e-01, 1.33299999e-01,\n",
       "       2.18999996e-01, 2.77900009e-01, 2.23099995e-01, 1.71200008e-01,\n",
       "       2.87299995e-01, 2.53799992e-01, 1.56000004e-01, 3.00200005e-01,\n",
       "       2.54820004e-01, 2.86399994e-01, 2.31299992e-01, 9.52999970e-02,\n",
       "       1.88239994e-01, 1.25400000e-01, 3.17000008e-01, 2.74899998e-01,\n",
       "       2.41399994e-01, 2.84200001e-01, 2.45900002e-01, 3.60699997e-01,\n",
       "       1.72700005e-01, 2.57500000e-01, 3.52999992e-01, 3.51399994e-01,\n",
       "       1.94799995e-01, 2.95799999e-01, 2.45799999e-01, 2.65300007e-01,\n",
       "       2.81399994e-01, 2.55699997e-01, 3.66199989e-01, 3.14699993e-01,\n",
       "       1.92600002e-01, 3.47000008e-01, 2.53299999e-01, 2.97099991e-01,\n",
       "       1.88500004e-01, 2.82500000e-01, 3.93800011e-01, 2.31100006e-01,\n",
       "       4.68499985e-01, 9.77999970e-02, 1.84099998e-01, 2.56100006e-01,\n",
       "       1.95100002e-01, 2.35599995e-01, 1.77700005e-01, 3.82400017e-01,\n",
       "       2.11800003e-01, 8.81999970e-02, 1.03800001e-01, 2.80599995e-01,\n",
       "       2.82800007e-01, 2.71599998e-01, 2.98799992e-01, 2.98899994e-01,\n",
       "       3.66699982e-01, 3.06100006e-01, 2.79799995e-01, 3.12700005e-01,\n",
       "       3.18199997e-01, 3.31100006e-01, 2.31499996e-01, 2.04500008e-01,\n",
       "       3.65200005e-01, 2.42199993e-01, 3.15300007e-01, 2.99200001e-01,\n",
       "       2.83099995e-01, 2.89099998e-01, 2.95599995e-01, 2.96200008e-01,\n",
       "       3.43899994e-01, 3.09899998e-01, 2.01800003e-01, 2.33500004e-01,\n",
       "       3.00000000e-02, 4.72000008e-01, 2.88899994e-01, 1.99200001e-01,\n",
       "       1.69099998e-01, 3.59900017e-01, 2.28600006e-01, 3.22099991e-01,\n",
       "       2.73199997e-01, 2.07399998e-01, 2.90400009e-01, 3.11800003e-01,\n",
       "       2.93600006e-01, 2.68099995e-01, 2.84400005e-01, 2.79559994e-01,\n",
       "       2.33899994e-01, 2.13099995e-01, 2.38799992e-01, 2.19200001e-01,\n",
       "       1.76299992e-01, 2.82600002e-01, 2.51299992e-01, 2.50400009e-01,\n",
       "       1.77199993e-01, 2.66200008e-01, 2.64099998e-01, 3.30099983e-01,\n",
       "       2.22800007e-01, 2.55799999e-01, 2.76700001e-01, 2.74400005e-01,\n",
       "       2.78299999e-01, 2.67800007e-01, 2.91299992e-01, 3.25000000e-01,\n",
       "       2.55346122e-01])"
      ]
     },
     "execution_count": 8,
     "metadata": {},
     "output_type": "execute_result"
    }
   ],
   "source": [
    "df['hir'].unique()"
   ]
  },
  {
   "cell_type": "code",
   "execution_count": 9,
   "metadata": {},
   "outputs": [
    {
     "data": {
      "image/png": "[encoded data removed]",
      "text/plain": [
       "<Figure size 864x576 with 2 Axes>"
      ]
     },
     "metadata": {
      "needs_background": "light"
     },
     "output_type": "display_data"
    }
   ],
   "source": [
    "plt.figure(figsize=(12,8))\n",
    "plt.subplot(1,2,1)\n",
    "plt.hist(df['ccs'])\n",
    "plt.title('ccs')\n",
    "plt.subplot(1,2,2)\n",
    "plt.hist(df['mcs'])\n",
    "plt.title('mcs')\n",
    "plt.show()"
   ]
  },
  {
   "cell_type": "code",
   "execution_count": 10,
   "metadata": {},
   "outputs": [
    {
     "data": {
      "text/plain": [
       "(array([1444.,    0.,    0.,    0.,    0.,    0.,    0.,    0.,    0.,\n",
       "         937.]),\n",
       " array([0. , 0.1, 0.2, 0.3, 0.4, 0.5, 0.6, 0.7, 0.8, 0.9, 1. ]),\n",
       " <BarContainer object of 10 artists>)"
      ]
     },
     "execution_count": 10,
     "metadata": {},
     "output_type": "execute_result"
    },
    {
     "data": {
      "image/png": "[encoded data removed]",
      "text/plain": [
       "<Figure size 432x288 with 1 Axes>"
      ]
     },
     "metadata": {
      "needs_background": "light"
     },
     "output_type": "display_data"
    }
   ],
   "source": [
    "# to check how many single to buy a house\n",
    "plt.hist(df['single'])\n"
   ]
  },
  {
   "cell_type": "markdown",
   "metadata": {},
   "source": [
    "It seems like more married people to buy a house than single people but there are still a lot of single to buy a house."
   ]
  },
  {
   "cell_type": "code",
   "execution_count": 11,
   "metadata": {},
   "outputs": [
    {
     "data": {
      "text/plain": [
       "0    1695\n",
       "1     686\n",
       "Name: comdominiom, dtype: int64"
      ]
     },
     "execution_count": 11,
     "metadata": {},
     "output_type": "execute_result"
    }
   ],
   "source": [
    "df['comdominiom'].value_counts()\n"
   ]
  },
  {
   "cell_type": "markdown",
   "metadata": {},
   "source": [
    "0 means false and 1 means true. So there are 1695 are condos and rest are house."
   ]
  },
  {
   "cell_type": "code",
   "execution_count": 12,
   "metadata": {},
   "outputs": [
    {
     "data": {
      "text/html": [
       "<div>\n",
       "<style scoped>\n",
       "    .dataframe tbody tr th:only-of-type {\n",
       "        vertical-align: middle;\n",
       "    }\n",
       "\n",
       "    .dataframe tbody tr th {\n",
       "        vertical-align: top;\n",
       "    }\n",
       "\n",
       "    .dataframe thead th {\n",
       "        text-align: right;\n",
       "    }\n",
       "</style>\n",
       "<table border=\"1\" class=\"dataframe\">\n",
       "  <thead>\n",
       "    <tr style=\"text-align: right;\">\n",
       "      <th></th>\n",
       "      <th>dir</th>\n",
       "      <th>hir</th>\n",
       "      <th>lvr</th>\n",
       "      <th>ccs</th>\n",
       "      <th>mcs</th>\n",
       "      <th>uria</th>\n",
       "      <th>comdominiom</th>\n",
       "    </tr>\n",
       "  </thead>\n",
       "  <tbody>\n",
       "    <tr>\n",
       "      <th>dir</th>\n",
       "      <td>1.000000</td>\n",
       "      <td>0.781473</td>\n",
       "      <td>0.150653</td>\n",
       "      <td>0.065234</td>\n",
       "      <td>0.051318</td>\n",
       "      <td>0.046450</td>\n",
       "      <td>-0.012451</td>\n",
       "    </tr>\n",
       "    <tr>\n",
       "      <th>hir</th>\n",
       "      <td>0.781473</td>\n",
       "      <td>1.000000</td>\n",
       "      <td>0.126273</td>\n",
       "      <td>0.005277</td>\n",
       "      <td>0.104721</td>\n",
       "      <td>0.036992</td>\n",
       "      <td>-0.046039</td>\n",
       "    </tr>\n",
       "    <tr>\n",
       "      <th>lvr</th>\n",
       "      <td>0.150653</td>\n",
       "      <td>0.126273</td>\n",
       "      <td>1.000000</td>\n",
       "      <td>0.111939</td>\n",
       "      <td>0.186326</td>\n",
       "      <td>-0.034643</td>\n",
       "      <td>0.055001</td>\n",
       "    </tr>\n",
       "    <tr>\n",
       "      <th>ccs</th>\n",
       "      <td>0.065234</td>\n",
       "      <td>0.005277</td>\n",
       "      <td>0.111939</td>\n",
       "      <td>1.000000</td>\n",
       "      <td>0.152686</td>\n",
       "      <td>-0.006424</td>\n",
       "      <td>0.050742</td>\n",
       "    </tr>\n",
       "    <tr>\n",
       "      <th>mcs</th>\n",
       "      <td>0.051318</td>\n",
       "      <td>0.104721</td>\n",
       "      <td>0.186326</td>\n",
       "      <td>0.152686</td>\n",
       "      <td>1.000000</td>\n",
       "      <td>0.037077</td>\n",
       "      <td>0.090462</td>\n",
       "    </tr>\n",
       "    <tr>\n",
       "      <th>uria</th>\n",
       "      <td>0.046450</td>\n",
       "      <td>0.036992</td>\n",
       "      <td>-0.034643</td>\n",
       "      <td>-0.006424</td>\n",
       "      <td>0.037077</td>\n",
       "      <td>1.000000</td>\n",
       "      <td>-0.100647</td>\n",
       "    </tr>\n",
       "    <tr>\n",
       "      <th>comdominiom</th>\n",
       "      <td>-0.012451</td>\n",
       "      <td>-0.046039</td>\n",
       "      <td>0.055001</td>\n",
       "      <td>0.050742</td>\n",
       "      <td>0.090462</td>\n",
       "      <td>-0.100647</td>\n",
       "      <td>1.000000</td>\n",
       "    </tr>\n",
       "  </tbody>\n",
       "</table>\n",
       "</div>"
      ],
      "text/plain": [
       "                  dir       hir       lvr       ccs       mcs      uria  \\\n",
       "dir          1.000000  0.781473  0.150653  0.065234  0.051318  0.046450   \n",
       "hir          0.781473  1.000000  0.126273  0.005277  0.104721  0.036992   \n",
       "lvr          0.150653  0.126273  1.000000  0.111939  0.186326 -0.034643   \n",
       "ccs          0.065234  0.005277  0.111939  1.000000  0.152686 -0.006424   \n",
       "mcs          0.051318  0.104721  0.186326  0.152686  1.000000  0.037077   \n",
       "uria         0.046450  0.036992 -0.034643 -0.006424  0.037077  1.000000   \n",
       "comdominiom -0.012451 -0.046039  0.055001  0.050742  0.090462 -0.100647   \n",
       "\n",
       "             comdominiom  \n",
       "dir            -0.012451  \n",
       "hir            -0.046039  \n",
       "lvr             0.055001  \n",
       "ccs             0.050742  \n",
       "mcs             0.090462  \n",
       "uria           -0.100647  \n",
       "comdominiom     1.000000  "
      ]
     },
     "execution_count": 12,
     "metadata": {},
     "output_type": "execute_result"
    }
   ],
   "source": [
    "df.corr()"
   ]
  },
  {
   "cell_type": "code",
   "execution_count": 13,
   "metadata": {},
   "outputs": [
    {
     "data": {
      "text/plain": [
       "<AxesSubplot:>"
      ]
     },
     "execution_count": 13,
     "metadata": {},
     "output_type": "execute_result"
    },
    {
     "data": {
      "image/png": "[encoded data removed]",
      "text/plain": [
       "<Figure size 864x720 with 2 Axes>"
      ]
     },
     "metadata": {
      "needs_background": "light"
     },
     "output_type": "display_data"
    }
   ],
   "source": [
    "plt.figure(figsize=(12,10))\n",
    "sns.heatmap(df.corr())"
   ]
  },
  {
   "cell_type": "markdown",
   "metadata": {},
   "source": [
    "#### correlation\n",
    "From the above, it seems only hir and dir have a strong relation between them rest are not that strong."
   ]
  },
  {
   "cell_type": "code",
   "execution_count": 14,
   "metadata": {},
   "outputs": [
    {
     "data": {
      "text/plain": [
       "(array([2333.,    0.,    0.,    0.,    0.,    0.,    0.,    0.,    0.,\n",
       "          48.]),\n",
       " array([0. , 0.1, 0.2, 0.3, 0.4, 0.5, 0.6, 0.7, 0.8, 0.9, 1. ]),\n",
       " <BarContainer object of 10 artists>)"
      ]
     },
     "execution_count": 14,
     "metadata": {},
     "output_type": "execute_result"
    },
    {
     "data": {
      "image/png": "[encoded data removed]",
      "text/plain": [
       "<Figure size 432x288 with 1 Axes>"
      ]
     },
     "metadata": {
      "needs_background": "light"
     },
     "output_type": "display_data"
    }
   ],
   "source": [
    "# to how many cases got denied\n",
    "\n",
    "plt.hist(df['dmi'])"
   ]
  },
  {
   "cell_type": "markdown",
   "metadata": {},
   "source": [
    "From the above, most people did not get denied."
   ]
  },
  {
   "cell_type": "code",
   "execution_count": 15,
   "metadata": {},
   "outputs": [
    {
     "data": {
      "text/plain": [
       "(array([2.205e+03, 0.000e+00, 0.000e+00, 0.000e+00, 0.000e+00, 1.750e+02,\n",
       "        0.000e+00, 0.000e+00, 0.000e+00, 1.000e+00]),\n",
       " array([0. , 0.2, 0.4, 0.6, 0.8, 1. , 1.2, 1.4, 1.6, 1.8, 2. ]),\n",
       " <BarContainer object of 10 artists>)"
      ]
     },
     "execution_count": 15,
     "metadata": {},
     "output_type": "execute_result"
    },
    {
     "data": {
      "image/png": "[encoded data removed]",
      "text/plain": [
       "<Figure size 432x288 with 1 Axes>"
      ]
     },
     "metadata": {
      "needs_background": "light"
     },
     "output_type": "display_data"
    }
   ],
   "source": [
    "#\n",
    "plt.hist(df['pbcr'].astype(str))\n"
   ]
  },
  {
   "cell_type": "markdown",
   "metadata": {},
   "source": [
    "From the above, there is a nan value which need to replace."
   ]
  },
  {
   "cell_type": "markdown",
   "metadata": {},
   "source": [
    "### EDA Summary\n",
    "There are not many missing values, but there are some missing. Each attribute does not have a strong relationship with other attributes. It seems if one attribute value gets increased, other wont decrease or increase. "
   ]
  },
  {
   "cell_type": "markdown",
   "metadata": {},
   "source": [
    "## Data Cleaning"
   ]
  },
  {
   "cell_type": "code",
   "execution_count": 16,
   "metadata": {},
   "outputs": [],
   "source": [
    "# fill out the missing value by using ffill method.\n",
    "df.fillna(method='ffill',inplace=True)"
   ]
  },
  {
   "cell_type": "code",
   "execution_count": 17,
   "metadata": {},
   "outputs": [
    {
     "data": {
      "text/plain": [
       "dir            0\n",
       "hir            0\n",
       "lvr            0\n",
       "ccs            0\n",
       "mcs            0\n",
       "pbcr           0\n",
       "dmi            0\n",
       "self           0\n",
       "single         0\n",
       "uria           0\n",
       "comdominiom    0\n",
       "black          0\n",
       "deny           0\n",
       "dtype: int64"
      ]
     },
     "execution_count": 17,
     "metadata": {},
     "output_type": "execute_result"
    }
   ],
   "source": [
    "# check if there any miss value after fillna method.\n",
    "df.isnull().sum()\n"
   ]
  },
  {
   "cell_type": "code",
   "execution_count": 18,
   "metadata": {},
   "outputs": [
    {
     "name": "stdout",
     "output_type": "stream",
     "text": [
      "column name: pbcr --- ['no' 'yes']\n",
      "column name: dmi --- ['no' 'yes']\n",
      "column name: self --- ['no' 'yes']\n",
      "column name: single --- ['no' 'yes']\n",
      "column name: black --- ['no' 'yes']\n",
      "column name: deny --- ['no' 'yes']\n"
     ]
    }
   ],
   "source": [
    "# check if there unknow answer in categorical data.\n",
    "columns = ['pbcr', 'dmi', 'self', 'single', 'black', 'deny']\n",
    "\n",
    "for val in columns:\n",
    "    print(f'column name: {val} --- {df[val].unique()}')\n"
   ]
  },
  {
   "cell_type": "code",
   "execution_count": 19,
   "metadata": {},
   "outputs": [],
   "source": [
    "# to shorten value range\n",
    "from sklearn.preprocessing import Normalizer\n",
    "from sklearn.preprocessing import MinMaxScaler\n",
    "scaled_dir = MinMaxScaler()\n",
    "scaled_dir = scaled_dir.fit_transform(df['dir'].to_numpy().reshape(-1,1))\n"
   ]
  },
  {
   "cell_type": "code",
   "execution_count": 20,
   "metadata": {},
   "outputs": [],
   "source": [
    "# normalization\n",
    "scaled_ccs = MinMaxScaler()\n",
    "scaled_ccs = scaled_ccs.fit_transform(df['ccs'].to_numpy().reshape(-1,1))\n",
    "df['ccs'] = scaled_ccs\n",
    "\n",
    "scaled_mcs = MinMaxScaler()\n",
    "scaled_mcs = scaled_mcs.fit_transform(df['mcs'].to_numpy().reshape(-1,1))\n",
    "df['mcs'] = scaled_mcs\n",
    "\n",
    "scaled_uria = MinMaxScaler()\n",
    "scaled_uria = scaled_uria.fit_transform(df['uria'].to_numpy().reshape(-1,1))\n",
    "df['uria'] = scaled_uria"
   ]
  },
  {
   "cell_type": "code",
   "execution_count": 21,
   "metadata": {},
   "outputs": [
    {
     "data": {
      "text/html": [
       "<div>\n",
       "<style scoped>\n",
       "    .dataframe tbody tr th:only-of-type {\n",
       "        vertical-align: middle;\n",
       "    }\n",
       "\n",
       "    .dataframe tbody tr th {\n",
       "        vertical-align: top;\n",
       "    }\n",
       "\n",
       "    .dataframe thead th {\n",
       "        text-align: right;\n",
       "    }\n",
       "</style>\n",
       "<table border=\"1\" class=\"dataframe\">\n",
       "  <thead>\n",
       "    <tr style=\"text-align: right;\">\n",
       "      <th></th>\n",
       "      <th>dir</th>\n",
       "      <th>hir</th>\n",
       "      <th>lvr</th>\n",
       "      <th>ccs</th>\n",
       "      <th>mcs</th>\n",
       "      <th>uria</th>\n",
       "      <th>comdominiom</th>\n",
       "      <th>pbcr_no</th>\n",
       "      <th>pbcr_yes</th>\n",
       "      <th>dmi_no</th>\n",
       "      <th>dmi_yes</th>\n",
       "      <th>single_no</th>\n",
       "      <th>single_yes</th>\n",
       "      <th>black_no</th>\n",
       "      <th>black_yes</th>\n",
       "      <th>deny_no</th>\n",
       "      <th>deny_yes</th>\n",
       "      <th>self_no</th>\n",
       "      <th>self_yes</th>\n",
       "    </tr>\n",
       "  </thead>\n",
       "  <tbody>\n",
       "    <tr>\n",
       "      <th>0</th>\n",
       "      <td>0.221</td>\n",
       "      <td>0.221</td>\n",
       "      <td>0.800000</td>\n",
       "      <td>0.8</td>\n",
       "      <td>0.333333</td>\n",
       "      <td>0.238636</td>\n",
       "      <td>0</td>\n",
       "      <td>1</td>\n",
       "      <td>0</td>\n",
       "      <td>1</td>\n",
       "      <td>0</td>\n",
       "      <td>1</td>\n",
       "      <td>0</td>\n",
       "      <td>1</td>\n",
       "      <td>0</td>\n",
       "      <td>1</td>\n",
       "      <td>0</td>\n",
       "      <td>1</td>\n",
       "      <td>0</td>\n",
       "    </tr>\n",
       "    <tr>\n",
       "      <th>1</th>\n",
       "      <td>0.265</td>\n",
       "      <td>0.265</td>\n",
       "      <td>0.921875</td>\n",
       "      <td>0.2</td>\n",
       "      <td>0.333333</td>\n",
       "      <td>0.159091</td>\n",
       "      <td>0</td>\n",
       "      <td>1</td>\n",
       "      <td>0</td>\n",
       "      <td>1</td>\n",
       "      <td>0</td>\n",
       "      <td>0</td>\n",
       "      <td>1</td>\n",
       "      <td>1</td>\n",
       "      <td>0</td>\n",
       "      <td>1</td>\n",
       "      <td>0</td>\n",
       "      <td>1</td>\n",
       "      <td>0</td>\n",
       "    </tr>\n",
       "    <tr>\n",
       "      <th>2</th>\n",
       "      <td>0.372</td>\n",
       "      <td>0.248</td>\n",
       "      <td>0.920398</td>\n",
       "      <td>0.0</td>\n",
       "      <td>0.333333</td>\n",
       "      <td>0.159091</td>\n",
       "      <td>0</td>\n",
       "      <td>1</td>\n",
       "      <td>0</td>\n",
       "      <td>1</td>\n",
       "      <td>0</td>\n",
       "      <td>1</td>\n",
       "      <td>0</td>\n",
       "      <td>1</td>\n",
       "      <td>0</td>\n",
       "      <td>1</td>\n",
       "      <td>0</td>\n",
       "      <td>1</td>\n",
       "      <td>0</td>\n",
       "    </tr>\n",
       "    <tr>\n",
       "      <th>3</th>\n",
       "      <td>0.320</td>\n",
       "      <td>0.250</td>\n",
       "      <td>0.860465</td>\n",
       "      <td>0.0</td>\n",
       "      <td>0.333333</td>\n",
       "      <td>0.284091</td>\n",
       "      <td>0</td>\n",
       "      <td>1</td>\n",
       "      <td>0</td>\n",
       "      <td>1</td>\n",
       "      <td>0</td>\n",
       "      <td>1</td>\n",
       "      <td>0</td>\n",
       "      <td>1</td>\n",
       "      <td>0</td>\n",
       "      <td>1</td>\n",
       "      <td>0</td>\n",
       "      <td>1</td>\n",
       "      <td>0</td>\n",
       "    </tr>\n",
       "    <tr>\n",
       "      <th>4</th>\n",
       "      <td>0.360</td>\n",
       "      <td>0.350</td>\n",
       "      <td>0.600000</td>\n",
       "      <td>0.0</td>\n",
       "      <td>0.000000</td>\n",
       "      <td>0.159091</td>\n",
       "      <td>0</td>\n",
       "      <td>1</td>\n",
       "      <td>0</td>\n",
       "      <td>1</td>\n",
       "      <td>0</td>\n",
       "      <td>1</td>\n",
       "      <td>0</td>\n",
       "      <td>1</td>\n",
       "      <td>0</td>\n",
       "      <td>1</td>\n",
       "      <td>0</td>\n",
       "      <td>1</td>\n",
       "      <td>0</td>\n",
       "    </tr>\n",
       "  </tbody>\n",
       "</table>\n",
       "</div>"
      ],
      "text/plain": [
       "     dir    hir       lvr  ccs       mcs      uria  comdominiom  pbcr_no  \\\n",
       "0  0.221  0.221  0.800000  0.8  0.333333  0.238636            0        1   \n",
       "1  0.265  0.265  0.921875  0.2  0.333333  0.159091            0        1   \n",
       "2  0.372  0.248  0.920398  0.0  0.333333  0.159091            0        1   \n",
       "3  0.320  0.250  0.860465  0.0  0.333333  0.284091            0        1   \n",
       "4  0.360  0.350  0.600000  0.0  0.000000  0.159091            0        1   \n",
       "\n",
       "   pbcr_yes  dmi_no  dmi_yes  single_no  single_yes  black_no  black_yes  \\\n",
       "0         0       1        0          1           0         1          0   \n",
       "1         0       1        0          0           1         1          0   \n",
       "2         0       1        0          1           0         1          0   \n",
       "3         0       1        0          1           0         1          0   \n",
       "4         0       1        0          1           0         1          0   \n",
       "\n",
       "   deny_no  deny_yes  self_no  self_yes  \n",
       "0        1         0        1         0  \n",
       "1        1         0        1         0  \n",
       "2        1         0        1         0  \n",
       "3        1         0        1         0  \n",
       "4        1         0        1         0  "
      ]
     },
     "execution_count": 21,
     "metadata": {},
     "output_type": "execute_result"
    }
   ],
   "source": [
    "# hot encoding turn categorical data into numeric data \n",
    "'''\n",
    "pbcr\n",
    "dmi\n",
    "single\n",
    "black\n",
    "deny\n",
    "'''\n",
    "from sklearn.preprocessing import OneHotEncoder\n",
    "from sklearn.compose import ColumnTransformer\n",
    "\n",
    "\n",
    "new_df = df\n",
    "categorical_col = ['pbcr','dmi','single','black','deny','self']\n",
    "\n",
    "for col in categorical_col:\n",
    "    col_ohe = pd.get_dummies(df[col],prefix=col)\n",
    "    new_df = pd.concat((new_df,col_ohe),axis = 1).drop(col,axis = 1)\n",
    "\n",
    "new_df.head()"
   ]
  },
  {
   "cell_type": "markdown",
   "metadata": {},
   "source": [
    "#### Rerun EDA"
   ]
  },
  {
   "cell_type": "code",
   "execution_count": 22,
   "metadata": {},
   "outputs": [
    {
     "data": {
      "text/plain": [
       "(array([1.353e+03, 4.410e+02, 1.000e+00, 0.000e+00, 1.260e+02, 0.000e+00,\n",
       "        7.700e+01, 1.820e+02, 0.000e+00, 2.010e+02]),\n",
       " array([0. , 0.1, 0.2, 0.3, 0.4, 0.5, 0.6, 0.7, 0.8, 0.9, 1. ]),\n",
       " <BarContainer object of 10 artists>)"
      ]
     },
     "execution_count": 22,
     "metadata": {},
     "output_type": "execute_result"
    },
    {
     "data": {
      "image/png": "[encoded data removed]",
      "text/plain": [
       "<Figure size 720x648 with 2 Axes>"
      ]
     },
     "metadata": {
      "needs_background": "light"
     },
     "output_type": "display_data"
    }
   ],
   "source": [
    "# to see two graph by using transformed data and original data\n",
    "# feature ccs\n",
    "plt.figure(figsize=(10,9))\n",
    "plt.subplot(2,1,1)\n",
    "plt.hist(df_cp['ccs'])\n",
    "plt.subplot(2,1,2)\n",
    "plt.hist(new_df['ccs'])\n"
   ]
  },
  {
   "cell_type": "markdown",
   "metadata": {},
   "source": [
    "From the above, we see the range is shortened."
   ]
  },
  {
   "cell_type": "code",
   "execution_count": 23,
   "metadata": {},
   "outputs": [
    {
     "data": {
      "text/plain": [
       "(array([7.470e+02, 0.000e+00, 1.000e+00, 1.571e+03, 0.000e+00, 0.000e+00,\n",
       "        4.100e+01, 0.000e+00, 0.000e+00, 2.100e+01]),\n",
       " array([0. , 0.1, 0.2, 0.3, 0.4, 0.5, 0.6, 0.7, 0.8, 0.9, 1. ]),\n",
       " <BarContainer object of 10 artists>)"
      ]
     },
     "execution_count": 23,
     "metadata": {},
     "output_type": "execute_result"
    },
    {
     "data": {
      "image/png": "[encoded data removed]",
      "text/plain": [
       "<Figure size 720x648 with 2 Axes>"
      ]
     },
     "metadata": {
      "needs_background": "light"
     },
     "output_type": "display_data"
    }
   ],
   "source": [
    "# to see mcs feature after transforming \n",
    "plt.figure(figsize=(10, 9))\n",
    "plt.subplot(2, 1, 1)\n",
    "plt.hist(df_cp['mcs'])\n",
    "plt.subplot(2, 1, 2)\n",
    "plt.hist(new_df['mcs'])\n"
   ]
  },
  {
   "cell_type": "markdown",
   "metadata": {},
   "source": [
    "From the above, it shows that range is shortened."
   ]
  },
  {
   "cell_type": "code",
   "execution_count": 24,
   "metadata": {},
   "outputs": [
    {
     "data": {
      "text/plain": [
       "(array([ 365., 1152.,  624.,   65.,    0.,    0.,    0.,    0.,   16.,\n",
       "         159.]),\n",
       " array([0. , 0.1, 0.2, 0.3, 0.4, 0.5, 0.6, 0.7, 0.8, 0.9, 1. ]),\n",
       " <BarContainer object of 10 artists>)"
      ]
     },
     "execution_count": 24,
     "metadata": {},
     "output_type": "execute_result"
    },
    {
     "data": {
      "image/png": "[encoded data removed]",
      "text/plain": [
       "<Figure size 720x648 with 2 Axes>"
      ]
     },
     "metadata": {
      "needs_background": "light"
     },
     "output_type": "display_data"
    }
   ],
   "source": [
    "\n",
    "plt.figure(figsize=(10, 9))\n",
    "plt.subplot(2, 1, 1)\n",
    "plt.hist(df_cp['uria'])\n",
    "plt.subplot(2, 1, 2)\n",
    "plt.hist(new_df['uria'])\n"
   ]
  },
  {
   "cell_type": "markdown",
   "metadata": {},
   "source": [
    "From the above, it shows the range is shortened. So it will fit into machine model."
   ]
  },
  {
   "cell_type": "markdown",
   "metadata": {},
   "source": [
    "### Feature Selection"
   ]
  },
  {
   "cell_type": "code",
   "execution_count": 25,
   "metadata": {},
   "outputs": [
    {
     "name": "stdout",
     "output_type": "stream",
     "text": [
      "Overall features:  Index(['dir', 'hir', 'lvr', 'ccs', 'mcs', 'uria', 'comdominiom', 'pbcr_no',\n",
      "       'pbcr_yes', 'dmi_no', 'dmi_yes', 'single_no', 'single_yes', 'black_no',\n",
      "       'black_yes', 'deny_no', 'deny_yes', 'self_no', 'self_yes'],\n",
      "      dtype='object') \n",
      "\n",
      "chosen feawtures:  Index(['ccs', 'pbcr_no', 'pbcr_yes', 'dmi_no', 'dmi_yes'], dtype='object') \n",
      "\n"
     ]
    },
    {
     "data": {
      "text/plain": [
       "array([ 98.44180896,  42.88743288,  64.31953539, 175.85967302,\n",
       "        28.94913233,   4.52958742,   3.75069692, 191.52316913,\n",
       "       191.52316913, 336.81573745, 336.81573745,  13.96378611,\n",
       "        13.96378611, 104.58732528, 104.58732528,   6.40773209,\n",
       "         6.40773209])"
      ]
     },
     "execution_count": 25,
     "metadata": {},
     "output_type": "execute_result"
    }
   ],
   "source": [
    "# feature selection\n",
    "from sklearn.feature_selection import SelectKBest\n",
    "from sklearn.feature_selection import f_regression\n",
    "\n",
    "target = new_df['deny_no']\n",
    "features = new_df.drop(['deny_no', 'deny_yes'], axis=1).copy()\n",
    "features_name = list(features.columns)\n",
    "\n",
    "select_kbest = SelectKBest(f_regression,k =  5).fit(features,target)\n",
    "\n",
    "features_kbest = select_kbest.get_support()\n",
    "\n",
    "print('Overall features: ',new_df.columns,'\\n')\n",
    "print('chosen feawtures: ', features.columns[features_kbest],'\\n')\n",
    "\n",
    "select_kbest.scores_\n"
   ]
  },
  {
   "cell_type": "code",
   "execution_count": 26,
   "metadata": {},
   "outputs": [
    {
     "name": "stdout",
     "output_type": "stream",
     "text": [
      "   Feature Name       Score\n",
      "10      dmi_yes  336.815737\n",
      "9        dmi_no  336.815737\n",
      "8      pbcr_yes  191.523169\n",
      "7       pbcr_no  191.523169\n",
      "3           ccs  175.859673\n",
      "14    black_yes  104.587325\n",
      "13     black_no  104.587325\n",
      "0           dir   98.441809\n",
      "2           lvr   64.319535\n",
      "1           hir   42.887433\n",
      "4           mcs   28.949132\n",
      "12   single_yes   13.963786\n",
      "11    single_no   13.963786\n",
      "16     self_yes    6.407732\n",
      "15      self_no    6.407732\n",
      "5          uria    4.529587\n",
      "6   comdominiom    3.750697\n"
     ]
    }
   ],
   "source": [
    "scores = pd.DataFrame({'Feature Name':features.columns,'Score':select_kbest.scores_}).sort_values(by='Score',ascending=False)\n",
    "print(scores)"
   ]
  },
  {
   "cell_type": "code",
   "execution_count": 27,
   "metadata": {},
   "outputs": [
    {
     "name": "stdout",
     "output_type": "stream",
     "text": [
      "     Chosen\n",
      "0       ccs\n",
      "1   pbcr_no\n",
      "2  pbcr_yes\n",
      "3    dmi_no\n",
      "4   dmi_yes\n"
     ]
    }
   ],
   "source": [
    "chosen_col = pd.DataFrame({'Chosen':features.columns[features_kbest]})\n",
    "print(chosen_col)"
   ]
  },
  {
   "cell_type": "code",
   "execution_count": 28,
   "metadata": {},
   "outputs": [
    {
     "name": "stdout",
     "output_type": "stream",
     "text": [
      "Index(['dmi_no', 'dmi_yes', 'single_yes', 'self_no', 'self_yes'], dtype='object')\n"
     ]
    }
   ],
   "source": [
    "# rfe selection\n",
    "from sklearn.linear_model import LinearRegression\n",
    "from sklearn.feature_selection import RFE\n",
    "\n",
    "lr = LinearRegression()\n",
    "\n",
    "rfe = RFE(estimator= lr, n_features_to_select= 5, step = 1)\n",
    "rfe.fit(features, target)\n",
    "\n",
    "ref_features = features.columns[rfe.support_]\n",
    "print(ref_features)\n"
   ]
  },
  {
   "cell_type": "code",
   "execution_count": 29,
   "metadata": {},
   "outputs": [
    {
     "name": "stdout",
     "output_type": "stream",
     "text": [
      "       Features  Rank\n",
      "16     self_yes     1\n",
      "12   single_yes     1\n",
      "10      dmi_yes     1\n",
      "9        dmi_no     1\n",
      "15      self_no     1\n",
      "11    single_no     2\n",
      "13     black_no     3\n",
      "14    black_yes     4\n",
      "7       pbcr_no     5\n",
      "8      pbcr_yes     6\n",
      "0           dir     7\n",
      "3           ccs     8\n",
      "2           lvr     9\n",
      "4           mcs    10\n",
      "1           hir    11\n",
      "5          uria    12\n",
      "6   comdominiom    13\n"
     ]
    }
   ],
   "source": [
    "rfe_output = pd.DataFrame({'Features':features.columns,'Rank':rfe.ranking_}).sort_values(by = 'Rank')\n",
    "print(rfe_output)"
   ]
  },
  {
   "cell_type": "code",
   "execution_count": 30,
   "metadata": {},
   "outputs": [
    {
     "name": "stdout",
     "output_type": "stream",
     "text": [
      "['0', '3', '7', '10', '13']\n",
      "       Features\n",
      "0           dir\n",
      "1           hir\n",
      "2           lvr\n",
      "3           ccs\n",
      "4           mcs\n",
      "5          uria\n",
      "6   comdominiom\n",
      "7       pbcr_no\n",
      "8      pbcr_yes\n",
      "9        dmi_no\n",
      "10      dmi_yes\n",
      "11    single_no\n",
      "12   single_yes\n",
      "13     black_no\n",
      "14    black_yes\n",
      "15      self_no\n",
      "16     self_yes\n"
     ]
    }
   ],
   "source": [
    "from mlxtend.feature_selection import SequentialFeatureSelector\n",
    "\n",
    "# target = new_df['deny_no']\n",
    "# features = new_df.drop('deny_no',axis=1).copy()\n",
    "feature_name = list(features.columns)\n",
    "\n",
    "feature_selector = SequentialFeatureSelector(LinearRegression(),k_features= 5,forward=False,scoring = 'neg_mean_squared_error',cv =4)\n",
    "feature_filtered = feature_selector.fit(features.values,target.values)\n",
    "\n",
    "backward_features = list(feature_filtered.k_feature_names_)\n",
    "print(backward_features)\n",
    "\n",
    "original_features = pd.DataFrame({'Features':features.columns})\n",
    "print(original_features)"
   ]
  },
  {
   "cell_type": "code",
   "execution_count": 31,
   "metadata": {},
   "outputs": [
    {
     "name": "stdout",
     "output_type": "stream",
     "text": [
      "   Backward\n",
      "0       dir\n",
      "1    dmi_no\n",
      "2  black_no\n",
      "3   self_no\n",
      "4  self_yes\n"
     ]
    }
   ],
   "source": [
    "# get a list of the actual names\n",
    "backward_df = []\n",
    "\n",
    "\n",
    "\n",
    "backward_df.append(original_features['Features'].loc[0])\n",
    "backward_df.append(original_features['Features'].loc[9])\n",
    "backward_df.append(original_features['Features'].loc[13])\n",
    "backward_df.append(original_features['Features'].loc[15])\n",
    "backward_df.append(original_features['Features'].loc[16])\n",
    "backward_df = pd.DataFrame({'Backward':backward_df})\n",
    "print(backward_df)\n"
   ]
  },
  {
   "cell_type": "code",
   "execution_count": 32,
   "metadata": {},
   "outputs": [
    {
     "name": "stdout",
     "output_type": "stream",
     "text": [
      "  Univariate         RFE  Backward\n",
      "0        ccs    self_yes       dir\n",
      "1    pbcr_no  single_yes    dmi_no\n",
      "2   pbcr_yes     dmi_yes  black_no\n",
      "3     dmi_no      dmi_no   self_no\n",
      "4    dmi_yes     self_no  self_yes\n"
     ]
    }
   ],
   "source": [
    "# get all the different tables of chosen options\n",
    "univariate_df = pd.DataFrame({'Univariate':features.columns[features_kbest]})\n",
    "rfe_df = pd.DataFrame({'RFE':rfe_output['Features'].head(5).values})\n",
    "selected = [univariate_df,rfe_df,backward_df]\n",
    "final_df = pd.concat(selected,axis = 1)\n",
    "print(final_df)"
   ]
  },
  {
   "cell_type": "markdown",
   "metadata": {},
   "source": [
    "Use three feature selection methods to pick 5 different features that matter to approve a mortgage. It shows different feature selection techniques pick different features. However, dmi feature exists in all three techniques."
   ]
  },
  {
   "cell_type": "code",
   "execution_count": 33,
   "metadata": {},
   "outputs": [],
   "source": [
    "from sklearn.model_selection import train_test_split\n",
    "from sklearn.metrics import r2_score, mean_squared_error\n",
    "\n",
    "def score(name,X,y):\n",
    "    X_train,X_test,y_train,y_test = train_test_split(X,y,test_size=.2)\n",
    "    le = LinearRegression(normalize= True).fit(X_train,y_train)\n",
    "    print(name)\n",
    "    print('Training score:\\t',le.score(X_train,y_train))\n",
    "\n",
    "    y_pred= le.predict(X_test)\n",
    "    print('r2_score:\\t',r2_score(y_test,y_pred))\n",
    "    "
   ]
  },
  {
   "cell_type": "code",
   "execution_count": 34,
   "metadata": {},
   "outputs": [
    {
     "name": "stdout",
     "output_type": "stream",
     "text": [
      "Univariate\n",
      "Training score:\t 0.2163236619176644\n",
      "r2_score:\t 0.2153554819272363\n",
      "\n",
      "RFE\n",
      "Training score:\t 0.14214929113505081\n",
      "r2_score:\t 0.09224395416036235\n",
      "\n",
      "Backward\n",
      "Training score:\t 0.19021074539667282\n",
      "r2_score:\t 0.17652489601769672\n",
      "\n"
     ]
    },
    {
     "name": "stderr",
     "output_type": "stream",
     "text": [
      "/Library/Frameworks/Python.framework/Versions/3.9/lib/python3.9/site-packages/sklearn/linear_model/_base.py:141: FutureWarning: 'normalize' was deprecated in version 1.0 and will be removed in 1.2.\n",
      "If you wish to scale the data, use Pipeline with a StandardScaler in a preprocessing stage. To reproduce the previous behavior:\n",
      "\n",
      "from sklearn.pipeline import make_pipeline\n",
      "\n",
      "model = make_pipeline(StandardScaler(with_mean=False), LinearRegression())\n",
      "\n",
      "If you wish to pass a sample_weight parameter, you need to pass it as a fit parameter to each step of the pipeline as follows:\n",
      "\n",
      "kwargs = {s[0] + '__sample_weight': sample_weight for s in model.steps}\n",
      "model.fit(X, y, **kwargs)\n",
      "\n",
      "\n",
      "  warnings.warn(\n",
      "/Library/Frameworks/Python.framework/Versions/3.9/lib/python3.9/site-packages/sklearn/linear_model/_base.py:141: FutureWarning: 'normalize' was deprecated in version 1.0 and will be removed in 1.2.\n",
      "If you wish to scale the data, use Pipeline with a StandardScaler in a preprocessing stage. To reproduce the previous behavior:\n",
      "\n",
      "from sklearn.pipeline import make_pipeline\n",
      "\n",
      "model = make_pipeline(StandardScaler(with_mean=False), LinearRegression())\n",
      "\n",
      "If you wish to pass a sample_weight parameter, you need to pass it as a fit parameter to each step of the pipeline as follows:\n",
      "\n",
      "kwargs = {s[0] + '__sample_weight': sample_weight for s in model.steps}\n",
      "model.fit(X, y, **kwargs)\n",
      "\n",
      "\n",
      "  warnings.warn(\n",
      "/Library/Frameworks/Python.framework/Versions/3.9/lib/python3.9/site-packages/sklearn/linear_model/_base.py:141: FutureWarning: 'normalize' was deprecated in version 1.0 and will be removed in 1.2.\n",
      "If you wish to scale the data, use Pipeline with a StandardScaler in a preprocessing stage. To reproduce the previous behavior:\n",
      "\n",
      "from sklearn.pipeline import make_pipeline\n",
      "\n",
      "model = make_pipeline(StandardScaler(with_mean=False), LinearRegression())\n",
      "\n",
      "If you wish to pass a sample_weight parameter, you need to pass it as a fit parameter to each step of the pipeline as follows:\n",
      "\n",
      "kwargs = {s[0] + '__sample_weight': sample_weight for s in model.steps}\n",
      "model.fit(X, y, **kwargs)\n",
      "\n",
      "\n",
      "  warnings.warn(\n"
     ]
    }
   ],
   "source": [
    "# print out train score\n",
    "for k in final_df.columns:\n",
    "    score(k,features[final_df[k].values],target)\n",
    "    print()"
   ]
  },
  {
   "cell_type": "markdown",
   "metadata": {},
   "source": [
    "Use linear regression model to train data and found out the score and coe score. Select k best feature method gives the best train score and coefficient score. It makes sense because it picks 5 features with the highest score. Those features that select k best method pick makes sense because those features are important to getting a mortgage."
   ]
  },
  {
   "cell_type": "code",
   "execution_count": 35,
   "metadata": {},
   "outputs": [
    {
     "name": "stdout",
     "output_type": "stream",
     "text": [
      "                            OLS Regression Results                            \n",
      "==============================================================================\n",
      "Dep. Variable:                deny_no   R-squared:                       0.261\n",
      "Model:                            OLS   Adj. R-squared:                  0.258\n",
      "Method:                 Least Squares   F-statistic:                     69.80\n",
      "Date:                Mon, 20 Jun 2022   Prob (F-statistic):          4.43e-146\n",
      "Time:                        18:05:11   Log-Likelihood:                -338.97\n",
      "No. Observations:                2381   AIC:                             703.9\n",
      "Df Residuals:                    2368   BIC:                             779.0\n",
      "Df Model:                          12                                         \n",
      "Covariance Type:            nonrobust                                         \n",
      "===============================================================================\n",
      "                  coef    std err          t      P>|t|      [0.025      0.975]\n",
      "-------------------------------------------------------------------------------\n",
      "dir            -0.4624      0.087     -5.299      0.000      -0.634      -0.291\n",
      "hir             0.0678      0.097      0.701      0.483      -0.122       0.257\n",
      "lvr            -0.0939      0.034     -2.795      0.005      -0.160      -0.028\n",
      "ccs            -0.1554      0.019     -8.398      0.000      -0.192      -0.119\n",
      "mcs            -0.0527      0.034     -1.564      0.118      -0.119       0.013\n",
      "uria           -0.0475      0.025     -1.870      0.062      -0.097       0.002\n",
      "comdominiom     0.0029      0.014      0.213      0.831      -0.024       0.029\n",
      "pbcr_no         0.2328      0.012     19.064      0.000       0.209       0.257\n",
      "pbcr_yes        0.0309      0.016      1.937      0.053      -0.000       0.062\n",
      "dmi_no          0.4867      0.018     27.439      0.000       0.452       0.522\n",
      "dmi_yes        -0.2230      0.026     -8.592      0.000      -0.274      -0.172\n",
      "single_no       0.1491      0.010     15.109      0.000       0.130       0.168\n",
      "single_yes      0.1146      0.011     10.705      0.000       0.094       0.136\n",
      "black_no        0.1760      0.011     16.647      0.000       0.155       0.197\n",
      "black_yes       0.0877      0.013      6.639      0.000       0.062       0.114\n",
      "self_no         0.1596      0.011     14.294      0.000       0.138       0.182\n",
      "self_yes        0.1041      0.013      7.868      0.000       0.078       0.130\n",
      "==============================================================================\n",
      "Omnibus:                      979.243   Durbin-Watson:                   1.597\n",
      "Prob(Omnibus):                  0.000   Jarque-Bera (JB):             3589.703\n",
      "Skew:                          -2.075   Prob(JB):                         0.00\n",
      "Kurtosis:                       7.355   Cond. No.                     3.37e+16\n",
      "==============================================================================\n",
      "\n",
      "Notes:\n",
      "[1] Standard Errors assume that the covariance matrix of the errors is correctly specified.\n",
      "[2] The smallest eigenvalue is 1.03e-29. This might indicate that there are\n",
      "strong multicollinearity problems or that the design matrix is singular.\n"
     ]
    }
   ],
   "source": [
    "# create ols model\n",
    "import statsmodels.api as sm\n",
    "\n",
    "y = new_df['deny_no'].copy()\n",
    "X = new_df.drop(['deny_no', 'deny_yes'], axis=1)\n",
    "model = sm.OLS(y,X)\n",
    "results = model.fit()\n",
    "print(results.summary())"
   ]
  },
  {
   "cell_type": "code",
   "execution_count": 36,
   "metadata": {},
   "outputs": [
    {
     "name": "stdout",
     "output_type": "stream",
     "text": [
      "0.2612674866460869\n"
     ]
    }
   ],
   "source": [
    "# create linear regression model\n",
    "from sklearn.linear_model import LinearRegression\n",
    "\n",
    "lin_reg = LinearRegression().fit(X,y)\n",
    "r_sq = lin_reg.score(X,y)\n",
    "print(r_sq)"
   ]
  },
  {
   "cell_type": "code",
   "execution_count": 37,
   "metadata": {},
   "outputs": [
    {
     "data": {
      "text/plain": [
       "0.9042419151616967"
      ]
     },
     "execution_count": 37,
     "metadata": {},
     "output_type": "execute_result"
    }
   ],
   "source": [
    "# create logistic regression\n",
    "from sklearn.linear_model import LogisticRegression\n",
    "model = LogisticRegression()\n",
    "model = model.fit(X,y)\n",
    "model.score(X,y)"
   ]
  },
  {
   "cell_type": "code",
   "execution_count": 41,
   "metadata": {},
   "outputs": [
    {
     "name": "stdout",
     "output_type": "stream",
     "text": [
      "[[0.04350565 0.95649435]\n",
      " [0.44496799 0.55503201]\n",
      " [0.05041527 0.94958473]\n",
      " ...\n",
      " [0.0808386  0.9191614 ]\n",
      " [0.039846   0.960154  ]\n",
      " [0.082255   0.917745  ]]\n"
     ]
    }
   ],
   "source": [
    "# evaluate the model by splitting into train and test sets\n",
    "# from sklearn.cross_validation import train_test_split\n",
    "from sklearn import metrics\n",
    "from sklearn.model_selection import cross_val_score\n",
    "\n",
    "X_train, X_test, y_train, y_test = train_test_split(X, y, test_size=0.3, random_state=0)\n",
    "model2 = LogisticRegression()\n",
    "model2.fit(X_train,y_train)\n",
    "predicted = model2.predict(X_test)\n",
    "# print(predicted)\n",
    "probs = model2.predict_proba(X_test)\n",
    "print(probs)\n"
   ]
  },
  {
   "cell_type": "code",
   "execution_count": 42,
   "metadata": {},
   "outputs": [
    {
     "name": "stdout",
     "output_type": "stream",
     "text": [
      "0.9146853146853147\n",
      "0.8353634264787835\n"
     ]
    }
   ],
   "source": [
    "#generate evaluation metrics\n",
    "print (metrics.accuracy_score(y_test, predicted))\n",
    "print (metrics.roc_auc_score(y_test, probs[:, 1]))\n"
   ]
  },
  {
   "cell_type": "code",
   "execution_count": 43,
   "metadata": {},
   "outputs": [
    {
     "name": "stdout",
     "output_type": "stream",
     "text": [
      "[[ 24  55]\n",
      " [  6 630]]\n",
      "              precision    recall  f1-score   support\n",
      "\n",
      "           0       0.80      0.30      0.44        79\n",
      "           1       0.92      0.99      0.95       636\n",
      "\n",
      "    accuracy                           0.91       715\n",
      "   macro avg       0.86      0.65      0.70       715\n",
      "weighted avg       0.91      0.91      0.90       715\n",
      "\n"
     ]
    }
   ],
   "source": [
    "\n",
    "print (metrics.confusion_matrix(y_test, predicted))\n",
    "print (metrics.classification_report(y_test, predicted))\n"
   ]
  },
  {
   "cell_type": "markdown",
   "metadata": {},
   "source": [
    "### Select Models\n",
    "I am selecting a model based on the accuracy that the model gives. It pretty simple and straightforward approach.\n",
    "\n",
    "LogisticRegression seems a good model because it gives good accuracy and when doing some validation, it also gives pretty good accuracy.\n",
    "\n",
    "I did some subtests on this. It also gives me the same accuracy overall. so logistic regression is pretty good in this case."
   ]
  },
  {
   "cell_type": "markdown",
   "metadata": {},
   "source": [
    "## Conclusion\n",
    "In this dataset, the most important features are ccs,pbcr, and dmi because those features determine if a person gets mortgage or not. Each feature is not related, most are independent features. If one feature's value is increased other features will not increase or decrease.b logistic regression model is best fit for this data set because it gives higher accuracy over other models."
   ]
  }
 ],
 "metadata": {
  "kernelspec": {
   "display_name": "Python 3.9.12 64-bit",
   "language": "python",
   "name": "python3"
  },
  "language_info": {
   "codemirror_mode": {
    "name": "ipython",
    "version": 3
   },
   "file_extension": ".py",
   "mimetype": "text/x-python",
   "name": "python",
   "nbconvert_exporter": "python",
   "pygments_lexer": "ipython3",
   "version": "3.9.12"
  },
  "orig_nbformat": 4,
  "vscode": {
   "interpreter": {
    "hash": "aee8b7b246df8f9039afb4144a1f6fd8d2ca17a180786b69acc140d282b71a49"
   }
  }
 },
 "nbformat": 4,
 "nbformat_minor": 2
}
